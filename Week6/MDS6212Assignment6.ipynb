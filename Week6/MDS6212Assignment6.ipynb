{
 "cells": [
  {
   "cell_type": "markdown",
   "metadata": {
    "toc": true
   },
   "source": [
    "<h1>Table of Contents<span class=\"tocSkip\"></span></h1>\n",
    "<div class=\"toc\"><ul class=\"toc-item\"><li><span><a href=\"#Questions-1:\" data-toc-modified-id=\"Questions-1:-1\"><span class=\"toc-item-num\">1&nbsp;&nbsp;</span>Questions 1:</a></span></li><li><span><a href=\"#Questions-2:\" data-toc-modified-id=\"Questions-2:-2\"><span class=\"toc-item-num\">2&nbsp;&nbsp;</span>Questions 2:</a></span></li><li><span><a href=\"#Question-3:\" data-toc-modified-id=\"Question-3:-3\"><span class=\"toc-item-num\">3&nbsp;&nbsp;</span>Question 3:</a></span></li></ul></div>"
   ]
  },
  {
   "cell_type": "markdown",
   "metadata": {},
   "source": [
    "# <center>MDS6212 Fintech Theory and Practice: Week 3 Assignment<center>\n",
    "\n",
    "----\n",
    "    \n",
    "**220041006 *Yihang Li***"
   ]
  },
  {
   "cell_type": "markdown",
   "metadata": {},
   "source": [
    "**Data confidential requirements:** \n",
    "*     Do not share datasets with others\n",
    "*     Do not post datasets on the Web site\n",
    "*     Datasets can only be used to work on assignments of MDS6212, M.Sc. in Data Science, CUHK-Shenzhen.\n",
    "\n",
    "**Datasets:**\n",
    "*     GEE 教育邮箱注册.word\n",
    "*     Cities_F.zip\n",
    "\n",
    "Deadline: Nov. 15, 2020"
   ]
  },
  {
   "cell_type": "markdown",
   "metadata": {},
   "source": [
    "## Questions 1:\n",
    "\n",
    "**Using the available archived DMSP-OLS Nighttime Lights Time Series data from [Google Earth Engine](https://eogdata.mines.edu/dmsp/downloadV4composites.html), generate two pictures for all calendar years. One captures the global regions occasionally lighted, and the other captures the global regions continuously lighted. Combine the two pictures with the base map in GEE platform, and discuss its economic meanings.**"
   ]
  },
  {
   "cell_type": "code",
   "execution_count": null,
   "metadata": {},
   "outputs": [],
   "source": []
  },
  {
   "cell_type": "markdown",
   "metadata": {},
   "source": [
    "## Questions 2:\n",
    "\n",
    "**Using the available archived DMSP-OLS Nighttime Lights 2013 year data, calculate a yearly average value of nighttime lights between Shenzhen and Silicon Valley (located in Santa Clara county) to compare the degree of economic activities during night time. Likewise, calculate the average value of nighttime lights between Shenzhen and Silicon Valley for all calendar years, draw the variables in a time series diagram, and analyse the differences between the two cities.**"
   ]
  },
  {
   "cell_type": "code",
   "execution_count": null,
   "metadata": {},
   "outputs": [],
   "source": []
  },
  {
   "cell_type": "markdown",
   "metadata": {},
   "source": [
    "## Question 3: \n",
    "**Using the available MOD11A2.006 Terra Land Surface Temperature and Emissivity 8-Day Global 1km data from Google Earth Engine, calculate an 8-Day average value of daytime Land Surface Temperature between Shenzhen and Silicon Valley (located in Santa Clara county) to compare the degree of economic activities from 2020-01-25 to 2020-02-02.**"
   ]
  },
  {
   "cell_type": "code",
   "execution_count": null,
   "metadata": {},
   "outputs": [],
   "source": []
  }
 ],
 "metadata": {
  "kernelspec": {
   "display_name": "Python 3",
   "language": "python",
   "name": "python3"
  },
  "language_info": {
   "codemirror_mode": {
    "name": "ipython",
    "version": 3
   },
   "file_extension": ".py",
   "mimetype": "text/x-python",
   "name": "python",
   "nbconvert_exporter": "python",
   "pygments_lexer": "ipython3",
   "version": "3.8.3"
  },
  "toc": {
   "base_numbering": 1,
   "nav_menu": {},
   "number_sections": true,
   "sideBar": true,
   "skip_h1_title": true,
   "title_cell": "Table of Contents",
   "title_sidebar": "Contents",
   "toc_cell": true,
   "toc_position": {},
   "toc_section_display": true,
   "toc_window_display": false
  },
  "varInspector": {
   "cols": {
    "lenName": 16,
    "lenType": 16,
    "lenVar": 40
   },
   "kernels_config": {
    "python": {
     "delete_cmd_postfix": "",
     "delete_cmd_prefix": "del ",
     "library": "var_list.py",
     "varRefreshCmd": "print(var_dic_list())"
    },
    "r": {
     "delete_cmd_postfix": ") ",
     "delete_cmd_prefix": "rm(",
     "library": "var_list.r",
     "varRefreshCmd": "cat(var_dic_list()) "
    }
   },
   "types_to_exclude": [
    "module",
    "function",
    "builtin_function_or_method",
    "instance",
    "_Feature"
   ],
   "window_display": false
  }
 },
 "nbformat": 4,
 "nbformat_minor": 4
}
