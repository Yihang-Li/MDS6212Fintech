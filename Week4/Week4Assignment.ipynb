{
 "cells": [
  {
   "cell_type": "markdown",
   "metadata": {},
   "source": [
    "# <center>MDS6212 Fintech Theory and Practice: Week 4 Assignment<center>\n",
    "\n",
    "----\n",
    "    \n",
    "**220041006 *Yihang Li***"
   ]
  },
  {
   "cell_type": "markdown",
   "metadata": {},
   "source": [
    "**Data confidential requirements:** \n",
    "*     Do not share datasets with others\n",
    "*     Do not post datasets on the Web site\n",
    "*     Datasets can only be used to work on assignments of MDS6212, M.Sc. in Data Science, CUHK-Shenzhen.\n",
    "\n",
    "**Datasets:** \n",
    "*     MDS6212 Week 4 Tesla.xlsx"
   ]
  },
  {
   "cell_type": "markdown",
   "metadata": {
    "toc": true
   },
   "source": [
    "<h1>Table of Contents<span class=\"tocSkip\"></span></h1>\n",
    "<div class=\"toc\"><ul class=\"toc-item\"><li><span><a href=\"#Present-word-cloud\" data-toc-modified-id=\"Present-word-cloud-1\"><span class=\"toc-item-num\">1&nbsp;&nbsp;</span>Present word cloud</a></span></li><li><span><a href=\"#Calculate-the-news-sentiment-variable-using-Loughran-and-McDonald-Sentiment-Word-Lists\" data-toc-modified-id=\"Calculate-the-news-sentiment-variable-using-Loughran-and-McDonald-Sentiment-Word-Lists-2\"><span class=\"toc-item-num\">2&nbsp;&nbsp;</span>Calculate the news sentiment variable using Loughran and McDonald Sentiment Word Lists</a></span><ul class=\"toc-item\"><li><ul class=\"toc-item\"><li><span><a href=\"#By-using-pysentiment2-with-LM()\" data-toc-modified-id=\"By-using-pysentiment2-with-LM()-2.0.1\"><span class=\"toc-item-num\">2.0.1&nbsp;&nbsp;</span>By using pysentiment2 with LM()</a></span></li><li><span><a href=\"#By-using-the-provided-excel_sheet\" data-toc-modified-id=\"By-using-the-provided-excel_sheet-2.0.2\"><span class=\"toc-item-num\">2.0.2&nbsp;&nbsp;</span>By using the provided excel_sheet</a></span></li></ul></li></ul></li><li><span><a href=\"#Calculate-the-Fog-index\" data-toc-modified-id=\"Calculate-the-Fog-index-3\"><span class=\"toc-item-num\">3&nbsp;&nbsp;</span>Calculate the Fog index</a></span></li><li><span><a href=\"#Question-4:-using-the-data-set-of-Tesla\" data-toc-modified-id=\"Question-4:-using-the-data-set-of-Tesla-4\"><span class=\"toc-item-num\">4&nbsp;&nbsp;</span>Question 4: using the data set of Tesla</a></span><ul class=\"toc-item\"><li><span><a href=\"#report-the-summary-statistics-of-sentiment,-novelty,-and-impact\" data-toc-modified-id=\"report-the-summary-statistics-of-sentiment,-novelty,-and-impact-4.1\"><span class=\"toc-item-num\">4.1&nbsp;&nbsp;</span>report the summary statistics of sentiment, novelty, and impact</a></span></li><li><span><a href=\"#present-the-correlation-coefficient-among-sentiment,-novelty,-and-impact\" data-toc-modified-id=\"present-the-correlation-coefficient-among-sentiment,-novelty,-and-impact-4.2\"><span class=\"toc-item-num\">4.2&nbsp;&nbsp;</span>present the correlation coefficient among sentiment, novelty, and impact</a></span></li><li><span><a href=\"#show-the-frequency-and-fraction-of-top-10-news-categories.\" data-toc-modified-id=\"show-the-frequency-and-fraction-of-top-10-news-categories.-4.3\"><span class=\"toc-item-num\">4.3&nbsp;&nbsp;</span>show the frequency and fraction of top 10 news categories.</a></span></li></ul></li></ul></div>"
   ]
  },
  {
   "cell_type": "code",
   "execution_count": 1,
   "metadata": {},
   "outputs": [
    {
     "name": "stdout",
     "output_type": "stream",
     "text": [
      " DS_Store\r\n",
      " LoughranMcDonald_SentimentWordLists_2018.xlsx\r\n",
      "'MDS6212 Week 4 Assignment.docx'\r\n",
      "'MDS6212 Week 4 Tesla.xlsx'\r\n",
      " Tesla3.png\r\n",
      " Week4Assignment.html\r\n",
      " Week4Assignment.ipynb\r\n",
      " Week4Assignment.zip\r\n",
      "'_$MDS6212 Week 4 Assignment.xlsx'\r\n"
     ]
    }
   ],
   "source": [
    "!ls "
   ]
  },
  {
   "cell_type": "markdown",
   "metadata": {},
   "source": [
    "**Questions 1-3:**\n",
    "For the following news article, \n",
    "\n",
    "    “Tesla‘s third-quarter sales jumped 44% as global demand for its electric vehicles outpaced that of most other automakers. The company reported Friday that it had delivered 139,000 SUVs and sedans from July through September, compared with 97,000 deliveries during the same period a year ago. The sales topped even some of the most optimistic projections coming from Wall Street. Analysts polled by data provider FactSet expected the company to sell closer to 137,000. Telsa has been rewriting the script throughout the year amidst a pandemic that has closed factories and scrambled supply lines. “This puts Musk & Co. in prime position to hit the area code of 500k units for the year which six months ago was not even on the map for the bulls,'\" Daniel Ives of Wedbush wrote Friday. China was likely a major source of strength in the quarter, Ives said. Tesla could post its fifth consecutive quarter of profits later this month.”"
   ]
  },
  {
   "cell_type": "code",
   "execution_count": 2,
   "metadata": {},
   "outputs": [],
   "source": [
    "news_article = \"\"\"“Tesla‘s third-quarter sales jumped 44% as global demand for its electric vehicles outpaced that of most other automakers. The company reported Friday that it had delivered 139,000 SUVs and sedans from July through September, compared with 97,000 deliveries during the same period a year ago. The sales topped even some of the most optimistic projections coming from Wall Street. Analysts polled by data provider FactSet expected the company to sell closer to 137,000. Telsa has been rewriting the script throughout the year amidst a pandemic that has closed factories and scrambled supply lines. “This puts Musk & Co. in prime position to hit the area code of 500k units for the year which six months ago was not even on the map for the bulls,'\" Daniel Ives of Wedbush wrote Friday. China was likely a major source of strength in the quarter, Ives said. Tesla could post its fifth consecutive quarter of profits later this month.”\"\"\""
   ]
  },
  {
   "cell_type": "markdown",
   "metadata": {},
   "source": [
    "## Present word cloud\n",
    "\n"
   ]
  },
  {
   "cell_type": "code",
   "execution_count": 3,
   "metadata": {},
   "outputs": [
    {
     "data": {
      "text/plain": [
       "'“Tesla‘s third-quarter sales jumped 44% as global demand for its electric vehicles outpaced that of most other automakers. The company reported Friday that it had delivered 139,000 SUVs and sedans from July through September, compared with 97,000 deliveries during the same period a year ago. The sales topped even some of the most optimistic projections coming from Wall Street. Analysts polled by data provider FactSet expected the company to sell closer to 137,000. Telsa has been rewriting the script throughout the year amidst a pandemic that has closed factories and scrambled supply lines. “This puts Musk & Co. in prime position to hit the area code of 500k units for the year which six months ago was not even on the map for the bulls,\\'\" Daniel Ives of Wedbush wrote Friday. China was likely a major source of strength in the quarter, Ives said. Tesla could post its fifth consecutive quarter of profits later this month.”'"
      ]
     },
     "execution_count": 3,
     "metadata": {},
     "output_type": "execute_result"
    }
   ],
   "source": [
    "news_article"
   ]
  },
  {
   "cell_type": "code",
   "execution_count": 4,
   "metadata": {},
   "outputs": [],
   "source": [
    "import numpy as np\n",
    "import pandas as pd\n",
    "import matplotlib.pyplot as plt\n",
    "%matplotlib inline"
   ]
  },
  {
   "cell_type": "code",
   "execution_count": 5,
   "metadata": {},
   "outputs": [],
   "source": [
    "# from os import path\n",
    "from PIL import Image\n",
    "from wordcloud import WordCloud, STOPWORDS, ImageColorGenerator\n",
    "bg_img = np.array(Image.open('Tesla3.png'))"
   ]
  },
  {
   "cell_type": "code",
   "execution_count": 6,
   "metadata": {},
   "outputs": [
    {
     "data": {
      "text/plain": [
       "<Figure size 2880x2160 with 0 Axes>"
      ]
     },
     "metadata": {},
     "output_type": "display_data"
    }
   ],
   "source": [
    "wordcloud = WordCloud(\n",
    "    mask=bg_img,\n",
    "    width=3000,\n",
    "    height=2000,\n",
    "    background_color='white',\n",
    "    random_state=7,\n",
    "    stopwords=STOPWORDS).generate(news_article)\n",
    "# create coloring from image\n",
    "image_colors = ImageColorGenerator(bg_img)\n",
    "fig = plt.figure(\n",
    "    figsize = (40, 30),\n",
    "    facecolor = 'k',\n",
    "    edgecolor = 'k')"
   ]
  },
  {
   "cell_type": "code",
   "execution_count": 7,
   "metadata": {},
   "outputs": [
    {
     "data": {
      "image/png": "[encoded data removed]",
      "text/plain": [
       "<Figure size 432x288 with 1 Axes>"
      ]
     },
     "metadata": {
      "needs_background": "light"
     },
     "output_type": "display_data"
    }
   ],
   "source": [
    "plt.imshow(wordcloud, interpolation = 'bilinear')\n",
    "plt.axis('off')\n",
    "plt.tight_layout(pad=0)\n",
    "# plt.savefig('wordcloud.png', bbox_inches = \"tight\")"
   ]
  },
  {
   "cell_type": "markdown",
   "metadata": {},
   "source": [
    "## Calculate the news sentiment variable using Loughran and McDonald Sentiment Word Lists"
   ]
  },
  {
   "cell_type": "markdown",
   "metadata": {},
   "source": [
    "#### By using pysentiment2 with LM()"
   ]
  },
  {
   "cell_type": "code",
   "execution_count": 8,
   "metadata": {},
   "outputs": [],
   "source": [
    "#use pysentiment2 to get Loughran and McDonald Sentiment Word Lists\n",
    "import pysentiment2 as ps\n",
    "lm = ps.LM()\n",
    "tokens = lm.tokenize(news_article)\n",
    "score = lm.get_score(tokens)"
   ]
  },
  {
   "cell_type": "code",
   "execution_count": 9,
   "metadata": {},
   "outputs": [
    {
     "data": {
      "text/plain": [
       "{'Positive': 4,\n",
       " 'Negative': 0,\n",
       " 'Polarity': 0.9999997500000625,\n",
       " 'Subjectivity': 0.06666666555555557}"
      ]
     },
     "execution_count": 9,
     "metadata": {},
     "output_type": "execute_result"
    }
   ],
   "source": [
    "score"
   ]
  },
  {
   "cell_type": "code",
   "execution_count": 10,
   "metadata": {},
   "outputs": [
    {
     "name": "stdout",
     "output_type": "stream",
     "text": [
      "The news sentiment is: 0.02564102564102564\n"
     ]
    }
   ],
   "source": [
    "#calculate news sentiment\n",
    "News_sentiment = (4 - 0)/len(news_article.split())\n",
    "print(\"The news sentiment is:\", News_sentiment)"
   ]
  },
  {
   "cell_type": "markdown",
   "metadata": {},
   "source": [
    "#### By using the provided excel_sheet "
   ]
  },
  {
   "cell_type": "code",
   "execution_count": 11,
   "metadata": {},
   "outputs": [],
   "source": [
    "LM_dict = pd.read_excel('LoughranMcDonald_SentimentWordLists_2018.xlsx', sheet_name='Negative', header=None)"
   ]
  },
  {
   "cell_type": "code",
   "execution_count": 12,
   "metadata": {},
   "outputs": [
    {
     "data": {
      "text/plain": [
       "1"
      ]
     },
     "execution_count": 12,
     "metadata": {},
     "output_type": "execute_result"
    }
   ],
   "source": [
    "neg = 0\n",
    "for i in news_article.split():\n",
    "    if [i.upper()] in LM_dict.values:\n",
    "        neg += 1\n",
    "neg"
   ]
  },
  {
   "cell_type": "code",
   "execution_count": 13,
   "metadata": {},
   "outputs": [],
   "source": [
    "LM_dict = pd.read_excel('LoughranMcDonald_SentimentWordLists_2018.xlsx', sheet_name='Positive', header=None)"
   ]
  },
  {
   "cell_type": "code",
   "execution_count": 14,
   "metadata": {},
   "outputs": [
    {
     "data": {
      "text/plain": [
       "2"
      ]
     },
     "execution_count": 14,
     "metadata": {},
     "output_type": "execute_result"
    }
   ],
   "source": [
    "positive = 0\n",
    "for i in news_article.split():\n",
    "    if [i.upper()] in LM_dict.values:\n",
    "        positive += 1\n",
    "positive"
   ]
  },
  {
   "cell_type": "code",
   "execution_count": 15,
   "metadata": {},
   "outputs": [
    {
     "name": "stdout",
     "output_type": "stream",
     "text": [
      "The news sentiment is: 0.00641025641025641\n"
     ]
    }
   ],
   "source": [
    "print(\"The news sentiment is:\", (positive - neg)/len(news_article.split()))"
   ]
  },
  {
   "cell_type": "markdown",
   "metadata": {},
   "source": [
    "## Calculate the Fog index"
   ]
  },
  {
   "cell_type": "markdown",
   "metadata": {},
   "source": [
    "    fog index: the quality of being easy or enjoyable to read"
   ]
  },
  {
   "cell_type": "markdown",
   "metadata": {},
   "source": [
    "    using textstat with textstat.gunning_fog(text)\n",
    "    Returns the FOG index of the given text."
   ]
  },
  {
   "cell_type": "code",
   "execution_count": 16,
   "metadata": {},
   "outputs": [],
   "source": [
    "import textstat"
   ]
  },
  {
   "cell_type": "code",
   "execution_count": 17,
   "metadata": {},
   "outputs": [
    {
     "name": "stdout",
     "output_type": "stream",
     "text": [
      "The Fog index is: 12.45\n"
     ]
    }
   ],
   "source": [
    "print(\"The Fog index is:\", textstat.gunning_fog(news_article))"
   ]
  },
  {
   "cell_type": "markdown",
   "metadata": {},
   "source": [
    "## Question 4: using the data set of Tesla\n",
    "\n",
    "    a) report the summary statistics of sentiment, novelty, and impact; \n",
    "    b) present the correlation coefficient among sentiment, novelty, and impact; and \n",
    "    c) show the frequency and fraction of top 10 news categories.\n"
   ]
  },
  {
   "cell_type": "code",
   "execution_count": 18,
   "metadata": {},
   "outputs": [],
   "source": [
    "Tesla = pd.read_excel('MDS6212 Week 4 Tesla.xlsx')"
   ]
  },
  {
   "cell_type": "code",
   "execution_count": 19,
   "metadata": {
    "scrolled": true
   },
   "outputs": [
    {
     "data": {
      "text/html": [
       "<div>\n",
       "<style scoped>\n",
       "    .dataframe tbody tr th:only-of-type {\n",
       "        vertical-align: middle;\n",
       "    }\n",
       "\n",
       "    .dataframe tbody tr th {\n",
       "        vertical-align: top;\n",
       "    }\n",
       "\n",
       "    .dataframe thead th {\n",
       "        text-align: right;\n",
       "    }\n",
       "</style>\n",
       "<table border=\"1\" class=\"dataframe\">\n",
       "  <thead>\n",
       "    <tr style=\"text-align: right;\">\n",
       "      <th></th>\n",
       "      <th>RavenPackID</th>\n",
       "      <th>Firm Name</th>\n",
       "      <th>Date</th>\n",
       "      <th>Time</th>\n",
       "      <th>Timestamp</th>\n",
       "      <th>Category</th>\n",
       "      <th>Relevance</th>\n",
       "      <th>Sentiment</th>\n",
       "      <th>Novelty</th>\n",
       "      <th>Impact</th>\n",
       "    </tr>\n",
       "  </thead>\n",
       "  <tbody>\n",
       "    <tr>\n",
       "      <th>0</th>\n",
       "      <td>DD3BB1</td>\n",
       "      <td>Tesla Inc.</td>\n",
       "      <td>20200901</td>\n",
       "      <td>02:02:06.882</td>\n",
       "      <td>2020-09-01 02:02:06.882</td>\n",
       "      <td>stock-gain</td>\n",
       "      <td>100</td>\n",
       "      <td>63</td>\n",
       "      <td>0</td>\n",
       "      <td>49</td>\n",
       "    </tr>\n",
       "    <tr>\n",
       "      <th>1</th>\n",
       "      <td>DD3BB1</td>\n",
       "      <td>Tesla Inc.</td>\n",
       "      <td>20200901</td>\n",
       "      <td>02:25:53.668</td>\n",
       "      <td>2020-09-01 02:25:53.668</td>\n",
       "      <td>stock-gain</td>\n",
       "      <td>100</td>\n",
       "      <td>63</td>\n",
       "      <td>0</td>\n",
       "      <td>49</td>\n",
       "    </tr>\n",
       "    <tr>\n",
       "      <th>2</th>\n",
       "      <td>DD3BB1</td>\n",
       "      <td>Tesla Inc.</td>\n",
       "      <td>20200901</td>\n",
       "      <td>02:39:28.126</td>\n",
       "      <td>2020-09-01 02:39:28.126</td>\n",
       "      <td>stock-gain</td>\n",
       "      <td>100</td>\n",
       "      <td>63</td>\n",
       "      <td>0</td>\n",
       "      <td>49</td>\n",
       "    </tr>\n",
       "    <tr>\n",
       "      <th>3</th>\n",
       "      <td>DD3BB1</td>\n",
       "      <td>Tesla Inc.</td>\n",
       "      <td>20200901</td>\n",
       "      <td>02:43:10.947</td>\n",
       "      <td>2020-09-01 02:43:10.947</td>\n",
       "      <td>stock-gain</td>\n",
       "      <td>100</td>\n",
       "      <td>63</td>\n",
       "      <td>0</td>\n",
       "      <td>49</td>\n",
       "    </tr>\n",
       "    <tr>\n",
       "      <th>4</th>\n",
       "      <td>DD3BB1</td>\n",
       "      <td>Tesla Inc.</td>\n",
       "      <td>20200901</td>\n",
       "      <td>02:53:13.850</td>\n",
       "      <td>2020-09-01 02:53:13.850</td>\n",
       "      <td>stock-gain</td>\n",
       "      <td>100</td>\n",
       "      <td>63</td>\n",
       "      <td>0</td>\n",
       "      <td>49</td>\n",
       "    </tr>\n",
       "  </tbody>\n",
       "</table>\n",
       "</div>"
      ],
      "text/plain": [
       "  RavenPackID   Firm Name      Date          Time                Timestamp  \\\n",
       "0      DD3BB1  Tesla Inc.  20200901  02:02:06.882  2020-09-01 02:02:06.882   \n",
       "1      DD3BB1  Tesla Inc.  20200901  02:25:53.668  2020-09-01 02:25:53.668   \n",
       "2      DD3BB1  Tesla Inc.  20200901  02:39:28.126  2020-09-01 02:39:28.126   \n",
       "3      DD3BB1  Tesla Inc.  20200901  02:43:10.947  2020-09-01 02:43:10.947   \n",
       "4      DD3BB1  Tesla Inc.  20200901  02:53:13.850  2020-09-01 02:53:13.850   \n",
       "\n",
       "     Category  Relevance  Sentiment  Novelty  Impact  \n",
       "0  stock-gain        100         63        0      49  \n",
       "1  stock-gain        100         63        0      49  \n",
       "2  stock-gain        100         63        0      49  \n",
       "3  stock-gain        100         63        0      49  \n",
       "4  stock-gain        100         63        0      49  "
      ]
     },
     "execution_count": 19,
     "metadata": {},
     "output_type": "execute_result"
    }
   ],
   "source": [
    "Tesla.head()"
   ]
  },
  {
   "cell_type": "markdown",
   "metadata": {},
   "source": [
    "### report the summary statistics of sentiment, novelty, and impact"
   ]
  },
  {
   "cell_type": "code",
   "execution_count": 20,
   "metadata": {},
   "outputs": [
    {
     "data": {
      "text/html": [
       "<div>\n",
       "<style scoped>\n",
       "    .dataframe tbody tr th:only-of-type {\n",
       "        vertical-align: middle;\n",
       "    }\n",
       "\n",
       "    .dataframe tbody tr th {\n",
       "        vertical-align: top;\n",
       "    }\n",
       "\n",
       "    .dataframe thead th {\n",
       "        text-align: right;\n",
       "    }\n",
       "</style>\n",
       "<table border=\"1\" class=\"dataframe\">\n",
       "  <thead>\n",
       "    <tr style=\"text-align: right;\">\n",
       "      <th></th>\n",
       "      <th>Sentiment</th>\n",
       "      <th>Novelty</th>\n",
       "      <th>Impact</th>\n",
       "    </tr>\n",
       "  </thead>\n",
       "  <tbody>\n",
       "    <tr>\n",
       "      <th>count</th>\n",
       "      <td>1292.000000</td>\n",
       "      <td>1292.000000</td>\n",
       "      <td>1292.000000</td>\n",
       "    </tr>\n",
       "    <tr>\n",
       "      <th>mean</th>\n",
       "      <td>53.845975</td>\n",
       "      <td>28.877709</td>\n",
       "      <td>45.277864</td>\n",
       "    </tr>\n",
       "    <tr>\n",
       "      <th>std</th>\n",
       "      <td>14.824257</td>\n",
       "      <td>38.537946</td>\n",
       "      <td>9.996097</td>\n",
       "    </tr>\n",
       "    <tr>\n",
       "      <th>min</th>\n",
       "      <td>2.000000</td>\n",
       "      <td>0.000000</td>\n",
       "      <td>13.000000</td>\n",
       "    </tr>\n",
       "    <tr>\n",
       "      <th>25%</th>\n",
       "      <td>40.000000</td>\n",
       "      <td>0.000000</td>\n",
       "      <td>39.000000</td>\n",
       "    </tr>\n",
       "    <tr>\n",
       "      <th>50%</th>\n",
       "      <td>50.000000</td>\n",
       "      <td>3.000000</td>\n",
       "      <td>45.000000</td>\n",
       "    </tr>\n",
       "    <tr>\n",
       "      <th>75%</th>\n",
       "      <td>64.000000</td>\n",
       "      <td>56.000000</td>\n",
       "      <td>52.000000</td>\n",
       "    </tr>\n",
       "    <tr>\n",
       "      <th>max</th>\n",
       "      <td>100.000000</td>\n",
       "      <td>100.000000</td>\n",
       "      <td>77.000000</td>\n",
       "    </tr>\n",
       "  </tbody>\n",
       "</table>\n",
       "</div>"
      ],
      "text/plain": [
       "         Sentiment      Novelty       Impact\n",
       "count  1292.000000  1292.000000  1292.000000\n",
       "mean     53.845975    28.877709    45.277864\n",
       "std      14.824257    38.537946     9.996097\n",
       "min       2.000000     0.000000    13.000000\n",
       "25%      40.000000     0.000000    39.000000\n",
       "50%      50.000000     3.000000    45.000000\n",
       "75%      64.000000    56.000000    52.000000\n",
       "max     100.000000   100.000000    77.000000"
      ]
     },
     "execution_count": 20,
     "metadata": {},
     "output_type": "execute_result"
    }
   ],
   "source": [
    "Tesla[['Sentiment', 'Novelty', 'Impact']].describe()"
   ]
  },
  {
   "cell_type": "markdown",
   "metadata": {},
   "source": [
    "### present the correlation coefficient among sentiment, novelty, and impact"
   ]
  },
  {
   "cell_type": "code",
   "execution_count": 21,
   "metadata": {},
   "outputs": [
    {
     "data": {
      "text/html": [
       "<div>\n",
       "<style scoped>\n",
       "    .dataframe tbody tr th:only-of-type {\n",
       "        vertical-align: middle;\n",
       "    }\n",
       "\n",
       "    .dataframe tbody tr th {\n",
       "        vertical-align: top;\n",
       "    }\n",
       "\n",
       "    .dataframe thead th {\n",
       "        text-align: right;\n",
       "    }\n",
       "</style>\n",
       "<table border=\"1\" class=\"dataframe\">\n",
       "  <thead>\n",
       "    <tr style=\"text-align: right;\">\n",
       "      <th></th>\n",
       "      <th>Sentiment</th>\n",
       "      <th>Novelty</th>\n",
       "      <th>Impact</th>\n",
       "    </tr>\n",
       "  </thead>\n",
       "  <tbody>\n",
       "    <tr>\n",
       "      <th>Sentiment</th>\n",
       "      <td>1.000000</td>\n",
       "      <td>0.165557</td>\n",
       "      <td>-0.130972</td>\n",
       "    </tr>\n",
       "    <tr>\n",
       "      <th>Novelty</th>\n",
       "      <td>0.165557</td>\n",
       "      <td>1.000000</td>\n",
       "      <td>-0.064844</td>\n",
       "    </tr>\n",
       "    <tr>\n",
       "      <th>Impact</th>\n",
       "      <td>-0.130972</td>\n",
       "      <td>-0.064844</td>\n",
       "      <td>1.000000</td>\n",
       "    </tr>\n",
       "  </tbody>\n",
       "</table>\n",
       "</div>"
      ],
      "text/plain": [
       "           Sentiment   Novelty    Impact\n",
       "Sentiment   1.000000  0.165557 -0.130972\n",
       "Novelty     0.165557  1.000000 -0.064844\n",
       "Impact     -0.130972 -0.064844  1.000000"
      ]
     },
     "execution_count": 21,
     "metadata": {},
     "output_type": "execute_result"
    }
   ],
   "source": [
    "Tesla[['Sentiment', 'Novelty', 'Impact']].corr()"
   ]
  },
  {
   "cell_type": "markdown",
   "metadata": {},
   "source": [
    "### show the frequency and fraction of top 10 news categories."
   ]
  },
  {
   "cell_type": "code",
   "execution_count": 22,
   "metadata": {},
   "outputs": [
    {
     "data": {
      "text/plain": [
       "stock-loss                       409\n",
       "stock-gain                       232\n",
       "product-release                  111\n",
       "business-contract                 63\n",
       "capital-increase                  55\n",
       "legal-verdict-favored             42\n",
       "price-target-upgrade              40\n",
       "acquisition-interest-acquirer     33\n",
       "fundraising                       33\n",
       "product-price-cut                 30\n",
       "Name: Category, dtype: int64"
      ]
     },
     "execution_count": 22,
     "metadata": {},
     "output_type": "execute_result"
    }
   ],
   "source": [
    "Tesla['Category'].value_counts().head(10)"
   ]
  },
  {
   "cell_type": "code",
   "execution_count": 23,
   "metadata": {},
   "outputs": [
    {
     "data": {
      "text/plain": [
       "stock-loss                       0.316563\n",
       "stock-gain                       0.179567\n",
       "product-release                  0.085913\n",
       "business-contract                0.048762\n",
       "capital-increase                 0.042570\n",
       "legal-verdict-favored            0.032508\n",
       "price-target-upgrade             0.030960\n",
       "acquisition-interest-acquirer    0.025542\n",
       "fundraising                      0.025542\n",
       "product-price-cut                0.023220\n",
       "Name: Category, dtype: float64"
      ]
     },
     "execution_count": 23,
     "metadata": {},
     "output_type": "execute_result"
    }
   ],
   "source": [
    "Tesla['Category'].value_counts().head(10)/Tesla['Category'].count()"
   ]
  }
 ],
 "metadata": {
  "kernelspec": {
   "display_name": "Python 3",
   "language": "python",
   "name": "python3"
  },
  "language_info": {
   "codemirror_mode": {
    "name": "ipython",
    "version": 3
   },
   "file_extension": ".py",
   "mimetype": "text/x-python",
   "name": "python",
   "nbconvert_exporter": "python",
   "pygments_lexer": "ipython3",
   "version": "3.8.3"
  },
  "toc": {
   "base_numbering": 1,
   "nav_menu": {},
   "number_sections": true,
   "sideBar": true,
   "skip_h1_title": true,
   "title_cell": "Table of Contents",
   "title_sidebar": "Contents",
   "toc_cell": true,
   "toc_position": {},
   "toc_section_display": true,
   "toc_window_display": false
  },
  "varInspector": {
   "cols": {
    "lenName": 16,
    "lenType": 16,
    "lenVar": 40
   },
   "kernels_config": {
    "python": {
     "delete_cmd_postfix": "",
     "delete_cmd_prefix": "del ",
     "library": "var_list.py",
     "varRefreshCmd": "print(var_dic_list())"
    },
    "r": {
     "delete_cmd_postfix": ") ",
     "delete_cmd_prefix": "rm(",
     "library": "var_list.r",
     "varRefreshCmd": "cat(var_dic_list()) "
    }
   },
   "types_to_exclude": [
    "module",
    "function",
    "builtin_function_or_method",
    "instance",
    "_Feature"
   ],
   "window_display": false
  }
 },
 "nbformat": 4,
 "nbformat_minor": 4
}
