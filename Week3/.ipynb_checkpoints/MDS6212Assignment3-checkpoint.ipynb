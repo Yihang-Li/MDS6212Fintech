{
 "cells": [
  {
   "cell_type": "markdown",
   "metadata": {},
   "source": [
    "# <center>MDS6212 Fintech Theory and Practice: Week 3 Assignment<center>\n",
    "\n",
    "----\n",
    "    \n",
    "**220041006 *Yihang Li***"
   ]
  },
  {
   "cell_type": "markdown",
   "metadata": {},
   "source": [
    "**Data confidential requirements:** \n",
    "*     Do not share datasets with others\n",
    "*     Do not post datasets on the Web site\n",
    "*     Datasets can only be used to work on assignments of MDS6212, M.Sc. in Data Science, CUHK-Shenzhen.\n",
    "\n",
    "**Datasets:** \n",
    "*     MDS6212 Week 3 Stock returns.xlsx\n",
    "*     MDS6212 Week 3 Online sales.xlsx"
   ]
  },
  {
   "cell_type": "code",
   "execution_count": 1,
   "metadata": {
    "scrolled": true
   },
   "outputs": [
    {
     "name": "stdout",
     "output_type": "stream",
     "text": [
      "'MDS6212 Week 3 Assignment.docx'    'MDS6212 Week 3 Stock returns.xlsx'\r\n",
      "'MDS6212 Week 3 Online sales.xlsx'   MDS6212Assignment3.ipynb\r\n"
     ]
    }
   ],
   "source": [
    "!ls"
   ]
  },
  {
   "cell_type": "code",
   "execution_count": 1,
   "metadata": {},
   "outputs": [],
   "source": [
    "import numpy as np\n",
    "import pandas as pd"
   ]
  },
  {
   "cell_type": "markdown",
   "metadata": {},
   "source": [
    "## Q1\n",
    "\n",
    "1) Using the data set of stock returns, sort stocks into quintiles by size every quarter, hold stocks over the quarter, and calculate monthly portfolio returns"
   ]
  },
  {
   "cell_type": "code",
   "execution_count": 2,
   "metadata": {},
   "outputs": [],
   "source": [
    "Stock_returns = pd.read_excel('MDS6212 Week 3 Stock returns.xlsx', sheet_name='data')"
   ]
  },
  {
   "cell_type": "code",
   "execution_count": 4,
   "metadata": {},
   "outputs": [
    {
     "name": "stdout",
     "output_type": "stream",
     "text": [
      "<class 'pandas.core.frame.DataFrame'>\n",
      "RangeIndex: 87432 entries, 0 to 87431\n",
      "Data columns (total 19 columns):\n",
      " #   Column      Non-Null Count  Dtype  \n",
      "---  ------      --------------  -----  \n",
      " 0   stkcd       87432 non-null  int64  \n",
      " 1   stknme      87432 non-null  object \n",
      " 2   conme       87432 non-null  object \n",
      " 3   month       87432 non-null  object \n",
      " 4   retrf       87432 non-null  float64\n",
      " 5   mktrf       87432 non-null  float64\n",
      " 6   smb         87432 non-null  float64\n",
      " 7   hml         87432 non-null  float64\n",
      " 8   umd         87432 non-null  float64\n",
      " 9   size        87432 non-null  float64\n",
      " 10  bm          87432 non-null  float64\n",
      " 11  return12    87432 non-null  float64\n",
      " 12  roa         87432 non-null  float64\n",
      " 13  lev         87432 non-null  float64\n",
      " 14  ppe         87432 non-null  float64\n",
      " 15  intang      87432 non-null  float64\n",
      " 16  numanalyst  87432 non-null  int64  \n",
      " 17  instown     87432 non-null  float64\n",
      " 18  mv          87432 non-null  int64  \n",
      "dtypes: float64(13), int64(3), object(3)\n",
      "memory usage: 12.7+ MB\n"
     ]
    }
   ],
   "source": [
    "Stock_returns.info()"
   ]
  },
  {
   "cell_type": "code",
   "execution_count": 5,
   "metadata": {},
   "outputs": [
    {
     "data": {
      "text/html": [
       "<div>\n",
       "<style scoped>\n",
       "    .dataframe tbody tr th:only-of-type {\n",
       "        vertical-align: middle;\n",
       "    }\n",
       "\n",
       "    .dataframe tbody tr th {\n",
       "        vertical-align: top;\n",
       "    }\n",
       "\n",
       "    .dataframe thead th {\n",
       "        text-align: right;\n",
       "    }\n",
       "</style>\n",
       "<table border=\"1\" class=\"dataframe\">\n",
       "  <thead>\n",
       "    <tr style=\"text-align: right;\">\n",
       "      <th></th>\n",
       "      <th>stkcd</th>\n",
       "      <th>stknme</th>\n",
       "      <th>conme</th>\n",
       "      <th>month</th>\n",
       "      <th>retrf</th>\n",
       "      <th>mktrf</th>\n",
       "      <th>smb</th>\n",
       "      <th>hml</th>\n",
       "      <th>umd</th>\n",
       "      <th>size</th>\n",
       "      <th>bm</th>\n",
       "      <th>return12</th>\n",
       "      <th>roa</th>\n",
       "      <th>lev</th>\n",
       "      <th>ppe</th>\n",
       "      <th>intang</th>\n",
       "      <th>numanalyst</th>\n",
       "      <th>instown</th>\n",
       "      <th>mv</th>\n",
       "    </tr>\n",
       "  </thead>\n",
       "  <tbody>\n",
       "    <tr>\n",
       "      <th>0</th>\n",
       "      <td>9</td>\n",
       "      <td>中国宝安</td>\n",
       "      <td>中国宝安集团股份有限公司</td>\n",
       "      <td>2013-07</td>\n",
       "      <td>9.0756</td>\n",
       "      <td>1.8833</td>\n",
       "      <td>5.1896</td>\n",
       "      <td>-0.1922</td>\n",
       "      <td>6.1829</td>\n",
       "      <td>23.10871</td>\n",
       "      <td>0.438860</td>\n",
       "      <td>13.37412</td>\n",
       "      <td>0.007949</td>\n",
       "      <td>0.430605</td>\n",
       "      <td>0.086185</td>\n",
       "      <td>0.031575</td>\n",
       "      <td>0</td>\n",
       "      <td>6.4646</td>\n",
       "      <td>11874173952</td>\n",
       "    </tr>\n",
       "    <tr>\n",
       "      <th>1</th>\n",
       "      <td>9</td>\n",
       "      <td>中国宝安</td>\n",
       "      <td>中国宝安集团股份有限公司</td>\n",
       "      <td>2013-08</td>\n",
       "      <td>-5.1363</td>\n",
       "      <td>4.5833</td>\n",
       "      <td>5.9407</td>\n",
       "      <td>0.0976</td>\n",
       "      <td>-5.5041</td>\n",
       "      <td>23.10871</td>\n",
       "      <td>0.438860</td>\n",
       "      <td>13.37412</td>\n",
       "      <td>0.007949</td>\n",
       "      <td>0.430605</td>\n",
       "      <td>0.086185</td>\n",
       "      <td>0.031575</td>\n",
       "      <td>0</td>\n",
       "      <td>6.4646</td>\n",
       "      <td>11874173952</td>\n",
       "    </tr>\n",
       "    <tr>\n",
       "      <th>2</th>\n",
       "      <td>9</td>\n",
       "      <td>中国宝安</td>\n",
       "      <td>中国宝安集团股份有限公司</td>\n",
       "      <td>2013-09</td>\n",
       "      <td>3.5840</td>\n",
       "      <td>3.3833</td>\n",
       "      <td>0.5848</td>\n",
       "      <td>2.8554</td>\n",
       "      <td>8.8693</td>\n",
       "      <td>23.10871</td>\n",
       "      <td>0.438860</td>\n",
       "      <td>13.37412</td>\n",
       "      <td>0.007949</td>\n",
       "      <td>0.430605</td>\n",
       "      <td>0.086185</td>\n",
       "      <td>0.031575</td>\n",
       "      <td>0</td>\n",
       "      <td>6.4646</td>\n",
       "      <td>11874173952</td>\n",
       "    </tr>\n",
       "    <tr>\n",
       "      <th>3</th>\n",
       "      <td>9</td>\n",
       "      <td>中国宝安</td>\n",
       "      <td>中国宝安集团股份有限公司</td>\n",
       "      <td>2014-01</td>\n",
       "      <td>-1.0932</td>\n",
       "      <td>-3.6167</td>\n",
       "      <td>5.6921</td>\n",
       "      <td>1.1126</td>\n",
       "      <td>8.9357</td>\n",
       "      <td>23.28204</td>\n",
       "      <td>0.394303</td>\n",
       "      <td>46.59159</td>\n",
       "      <td>0.025973</td>\n",
       "      <td>0.432246</td>\n",
       "      <td>0.098660</td>\n",
       "      <td>0.029798</td>\n",
       "      <td>0</td>\n",
       "      <td>5.6741</td>\n",
       "      <td>11731143680</td>\n",
       "    </tr>\n",
       "    <tr>\n",
       "      <th>4</th>\n",
       "      <td>9</td>\n",
       "      <td>中国宝安</td>\n",
       "      <td>中国宝安集团股份有限公司</td>\n",
       "      <td>2014-02</td>\n",
       "      <td>19.0704</td>\n",
       "      <td>0.9833</td>\n",
       "      <td>3.8899</td>\n",
       "      <td>0.6902</td>\n",
       "      <td>-1.8764</td>\n",
       "      <td>23.28204</td>\n",
       "      <td>0.394303</td>\n",
       "      <td>46.59159</td>\n",
       "      <td>0.025973</td>\n",
       "      <td>0.432246</td>\n",
       "      <td>0.098660</td>\n",
       "      <td>0.029798</td>\n",
       "      <td>0</td>\n",
       "      <td>5.6741</td>\n",
       "      <td>11731143680</td>\n",
       "    </tr>\n",
       "  </tbody>\n",
       "</table>\n",
       "</div>"
      ],
      "text/plain": [
       "   stkcd stknme         conme    month    retrf   mktrf     smb     hml  \\\n",
       "0      9   中国宝安  中国宝安集团股份有限公司  2013-07   9.0756  1.8833  5.1896 -0.1922   \n",
       "1      9   中国宝安  中国宝安集团股份有限公司  2013-08  -5.1363  4.5833  5.9407  0.0976   \n",
       "2      9   中国宝安  中国宝安集团股份有限公司  2013-09   3.5840  3.3833  0.5848  2.8554   \n",
       "3      9   中国宝安  中国宝安集团股份有限公司  2014-01  -1.0932 -3.6167  5.6921  1.1126   \n",
       "4      9   中国宝安  中国宝安集团股份有限公司  2014-02  19.0704  0.9833  3.8899  0.6902   \n",
       "\n",
       "      umd      size        bm  return12       roa       lev       ppe  \\\n",
       "0  6.1829  23.10871  0.438860  13.37412  0.007949  0.430605  0.086185   \n",
       "1 -5.5041  23.10871  0.438860  13.37412  0.007949  0.430605  0.086185   \n",
       "2  8.8693  23.10871  0.438860  13.37412  0.007949  0.430605  0.086185   \n",
       "3  8.9357  23.28204  0.394303  46.59159  0.025973  0.432246  0.098660   \n",
       "4 -1.8764  23.28204  0.394303  46.59159  0.025973  0.432246  0.098660   \n",
       "\n",
       "     intang  numanalyst  instown           mv  \n",
       "0  0.031575           0   6.4646  11874173952  \n",
       "1  0.031575           0   6.4646  11874173952  \n",
       "2  0.031575           0   6.4646  11874173952  \n",
       "3  0.029798           0   5.6741  11731143680  \n",
       "4  0.029798           0   5.6741  11731143680  "
      ]
     },
     "execution_count": 5,
     "metadata": {},
     "output_type": "execute_result"
    }
   ],
   "source": [
    "Stock_returns.head()"
   ]
  },
  {
   "cell_type": "markdown",
   "metadata": {},
   "source": [
    "roa: Return on assets, defined as the **quarterly** operating income scaled by lagged assets"
   ]
  },
  {
   "cell_type": "code",
   "execution_count": 3,
   "metadata": {},
   "outputs": [],
   "source": [
    "Stock_returns['month'] = pd.to_datetime(Stock_returns['month'], format='%Y-%m') #.dt.strftime('%Y-%m')"
   ]
  },
  {
   "cell_type": "code",
   "execution_count": 4,
   "metadata": {},
   "outputs": [
    {
     "data": {
      "text/plain": [
       "month  month\n",
       "2012   4        21.88522\n",
       "       5        21.88522\n",
       "       6        21.88522\n",
       "       7        21.82841\n",
       "       8        21.82841\n",
       "                  ...   \n",
       "2019   8        22.36649\n",
       "       9        22.36649\n",
       "       10       22.26032\n",
       "       11       22.26032\n",
       "       12       22.26032\n",
       "Name: size, Length: 93, dtype: float64"
      ]
     },
     "execution_count": 4,
     "metadata": {},
     "output_type": "execute_result"
    }
   ],
   "source": [
    "#groupby\n",
    "Stock_returns['size'].groupby([Stock_returns['month'].dt.year, Stock_returns['month'].dt.month]).median()"
   ]
  },
  {
   "cell_type": "code",
   "execution_count": 5,
   "metadata": {},
   "outputs": [],
   "source": [
    "# Groupby quarterly\n",
    "Groupby_quarterly = Stock_returns.groupby(Stock_returns['month'].dt.to_period('Q'))"
   ]
  },
  {
   "cell_type": "code",
   "execution_count": 7,
   "metadata": {},
   "outputs": [],
   "source": [
    "# Try to get the key of 2012Q2\n",
    "Group_Keys = list(Groupby_quarterly.groups)"
   ]
  },
  {
   "cell_type": "code",
   "execution_count": 21,
   "metadata": {},
   "outputs": [],
   "source": [
    "#2012Q2\n",
    "#Groupby_quarterly.get_group(Group_Keys[0])['size'] > Groupby_quarterly.get_group(Group_Keys[0])['size'].median()\n",
    "### filter function returned a Series, but expected a scalar bool\n",
    "#### Not filter, we need to groupby again!"
   ]
  },
  {
   "cell_type": "code",
   "execution_count": 13,
   "metadata": {},
   "outputs": [],
   "source": [
    "#(lambda x: x['size'] > x['size'].median())"
   ]
  },
  {
   "cell_type": "code",
   "execution_count": 30,
   "metadata": {},
   "outputs": [
    {
     "name": "stdout",
     "output_type": "stream",
     "text": [
      "2012Q2 : the median size is 21.88522\n",
      "0.020105222234082194 \n",
      " 0.012522064111195845\n"
     ]
    }
   ],
   "source": [
    "for key, group in Groupby_quarterly:\n",
    "    print(key,': the median size is', group['size'].median())\n",
    "    \n",
    "    Big = group[group['size'] > group['size'].median()].reset_index()\n",
    "    Small = group[group['size'] <= group['size'].median()].reset_index()\n",
    "    \n",
    "    Big['weight'] = Big['size']/Big['size'].sum()\n",
    "    Small['weight'] = Small['size']/Small['size'].sum()\n",
    "    \n",
    "    Portfolio_Big = Big['weight'].dot(Big['roa'])\n",
    "    Portfolio_Small = Small['weight'].dot(Small['roa'])\n",
    "    \n",
    "    print(Portfolio_Big, '\\n', Portfolio_Small)\n",
    "    break"
   ]
  },
  {
   "cell_type": "code",
   "execution_count": null,
   "metadata": {},
   "outputs": [],
   "source": []
  },
  {
   "cell_type": "markdown",
   "metadata": {},
   "source": [
    "## Q2\n",
    "\n",
    "2) Using the data set of stock returns, sort stocks into quintiles by institutional ownership every quarter, hold stocks over the quarter, and calculate monthly portfolio returns"
   ]
  },
  {
   "cell_type": "code",
   "execution_count": null,
   "metadata": {},
   "outputs": [],
   "source": []
  },
  {
   "cell_type": "code",
   "execution_count": null,
   "metadata": {},
   "outputs": [],
   "source": []
  },
  {
   "cell_type": "markdown",
   "metadata": {},
   "source": [
    "## Q3\n",
    "\n",
    "3) Using the data set of stock returns, perform panel regression, and regress stock returns on firm characteristics such as size, book-to-market ratio, return12, roa, leverage, ppe, intang, number of analysts, institutional ownership, controlling for or not for firm and year-month fixed effects. Cluster standard errors by firm and year-month (double clustering)"
   ]
  },
  {
   "cell_type": "code",
   "execution_count": null,
   "metadata": {},
   "outputs": [],
   "source": []
  },
  {
   "cell_type": "code",
   "execution_count": null,
   "metadata": {},
   "outputs": [],
   "source": []
  },
  {
   "cell_type": "markdown",
   "metadata": {},
   "source": [
    "## Q4\n",
    "\n",
    "4) Using the data set of Online sales, aggregate monthly online sales over quarters, download reported quarterly total sales from CSMAR, and plot figures including both online sales and reported quarterly sales."
   ]
  },
  {
   "cell_type": "code",
   "execution_count": null,
   "metadata": {},
   "outputs": [],
   "source": []
  },
  {
   "cell_type": "code",
   "execution_count": null,
   "metadata": {},
   "outputs": [],
   "source": []
  },
  {
   "cell_type": "code",
   "execution_count": null,
   "metadata": {},
   "outputs": [],
   "source": []
  }
 ],
 "metadata": {
  "kernelspec": {
   "display_name": "Python 3",
   "language": "python",
   "name": "python3"
  },
  "language_info": {
   "codemirror_mode": {
    "name": "ipython",
    "version": 3
   },
   "file_extension": ".py",
   "mimetype": "text/x-python",
   "name": "python",
   "nbconvert_exporter": "python",
   "pygments_lexer": "ipython3",
   "version": "3.8.3"
  },
  "toc": {
   "base_numbering": 1,
   "nav_menu": {},
   "number_sections": true,
   "sideBar": true,
   "skip_h1_title": true,
   "title_cell": "Table of Contents",
   "title_sidebar": "Contents",
   "toc_cell": false,
   "toc_position": {},
   "toc_section_display": true,
   "toc_window_display": false
  },
  "varInspector": {
   "cols": {
    "lenName": 16,
    "lenType": 16,
    "lenVar": 40
   },
   "kernels_config": {
    "python": {
     "delete_cmd_postfix": "",
     "delete_cmd_prefix": "del ",
     "library": "var_list.py",
     "varRefreshCmd": "print(var_dic_list())"
    },
    "r": {
     "delete_cmd_postfix": ") ",
     "delete_cmd_prefix": "rm(",
     "library": "var_list.r",
     "varRefreshCmd": "cat(var_dic_list()) "
    }
   },
   "types_to_exclude": [
    "module",
    "function",
    "builtin_function_or_method",
    "instance",
    "_Feature"
   ],
   "window_display": false
  }
 },
 "nbformat": 4,
 "nbformat_minor": 4
}
