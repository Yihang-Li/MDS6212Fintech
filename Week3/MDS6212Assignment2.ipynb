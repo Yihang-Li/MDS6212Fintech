{
 "cells": [
  {
   "cell_type": "markdown",
   "metadata": {},
   "source": [
    "# <center>MDS6212 Fintech Theory and Practice: Week 2 Assignment<center>\n",
    "\n",
    "----\n",
    "    \n",
    "**220041006 *Yihang Li***"
   ]
  },
  {
   "cell_type": "markdown",
   "metadata": {},
   "source": [
    "**Data confidential requirements:** \n",
    "*     Do not share datasets with others\n",
    "*     Do not post datasets on the Web site\n",
    "*     Datasets can only be used to work on assignments of MDS6212, M.Sc. in Data Science, CUHK-Shenzhen.\n",
    "\n",
    "**Datasets:** \n",
    "*     MDS6212 Week 3 Stock returns.xlsx\n",
    "*     MDS6212 Week 3 Online sales.xlsx"
   ]
  },
  {
   "cell_type": "code",
   "execution_count": 1,
   "metadata": {},
   "outputs": [
    {
     "name": "stdout",
     "output_type": "stream",
     "text": [
      "'MDS6212 Week 3 Assignment.docx'    'MDS6212 Week 3 Stock returns.xlsx'\r\n",
      "'MDS6212 Week 3 Online sales.xlsx'   MDS6212Assignment2.ipynb\r\n"
     ]
    }
   ],
   "source": [
    "!ls"
   ]
  },
  {
   "cell_type": "code",
   "execution_count": 2,
   "metadata": {},
   "outputs": [],
   "source": [
    "import numpy as np\n",
    "import pandas as pd"
   ]
  },
  {
   "cell_type": "markdown",
   "metadata": {},
   "source": [
    "## Q1\n",
    "\n",
    "1) Using the data set of stock returns, sort stocks into quintiles by size every quarter, hold stocks over the quarter, and calculate monthly portfolio returns"
   ]
  },
  {
   "cell_type": "code",
   "execution_count": 5,
   "metadata": {},
   "outputs": [],
   "source": [
    "Stock_returns = pd.read_excel('MDS6212 Week 3 Stock returns.xlsx', sheet_name='data')"
   ]
  },
  {
   "cell_type": "code",
   "execution_count": 7,
   "metadata": {},
   "outputs": [
    {
     "data": {
      "text/html": [
       "<div>\n",
       "<style scoped>\n",
       "    .dataframe tbody tr th:only-of-type {\n",
       "        vertical-align: middle;\n",
       "    }\n",
       "\n",
       "    .dataframe tbody tr th {\n",
       "        vertical-align: top;\n",
       "    }\n",
       "\n",
       "    .dataframe thead th {\n",
       "        text-align: right;\n",
       "    }\n",
       "</style>\n",
       "<table border=\"1\" class=\"dataframe\">\n",
       "  <thead>\n",
       "    <tr style=\"text-align: right;\">\n",
       "      <th></th>\n",
       "      <th>stkcd</th>\n",
       "      <th>stknme</th>\n",
       "      <th>conme</th>\n",
       "      <th>month</th>\n",
       "      <th>retrf</th>\n",
       "      <th>mktrf</th>\n",
       "      <th>smb</th>\n",
       "      <th>hml</th>\n",
       "      <th>umd</th>\n",
       "      <th>size</th>\n",
       "      <th>bm</th>\n",
       "      <th>return12</th>\n",
       "      <th>roa</th>\n",
       "      <th>lev</th>\n",
       "      <th>ppe</th>\n",
       "      <th>intang</th>\n",
       "      <th>numanalyst</th>\n",
       "      <th>instown</th>\n",
       "      <th>mv</th>\n",
       "    </tr>\n",
       "  </thead>\n",
       "  <tbody>\n",
       "    <tr>\n",
       "      <th>0</th>\n",
       "      <td>9</td>\n",
       "      <td>中国宝安</td>\n",
       "      <td>中国宝安集团股份有限公司</td>\n",
       "      <td>2013-07</td>\n",
       "      <td>9.0756</td>\n",
       "      <td>1.8833</td>\n",
       "      <td>5.1896</td>\n",
       "      <td>-0.1922</td>\n",
       "      <td>6.1829</td>\n",
       "      <td>23.10871</td>\n",
       "      <td>0.43886</td>\n",
       "      <td>13.37412</td>\n",
       "      <td>0.007949</td>\n",
       "      <td>0.430605</td>\n",
       "      <td>0.086185</td>\n",
       "      <td>0.031575</td>\n",
       "      <td>0</td>\n",
       "      <td>6.4646</td>\n",
       "      <td>11874173952</td>\n",
       "    </tr>\n",
       "    <tr>\n",
       "      <th>1</th>\n",
       "      <td>9</td>\n",
       "      <td>中国宝安</td>\n",
       "      <td>中国宝安集团股份有限公司</td>\n",
       "      <td>2013-08</td>\n",
       "      <td>-5.1363</td>\n",
       "      <td>4.5833</td>\n",
       "      <td>5.9407</td>\n",
       "      <td>0.0976</td>\n",
       "      <td>-5.5041</td>\n",
       "      <td>23.10871</td>\n",
       "      <td>0.43886</td>\n",
       "      <td>13.37412</td>\n",
       "      <td>0.007949</td>\n",
       "      <td>0.430605</td>\n",
       "      <td>0.086185</td>\n",
       "      <td>0.031575</td>\n",
       "      <td>0</td>\n",
       "      <td>6.4646</td>\n",
       "      <td>11874173952</td>\n",
       "    </tr>\n",
       "  </tbody>\n",
       "</table>\n",
       "</div>"
      ],
      "text/plain": [
       "   stkcd stknme         conme    month   retrf   mktrf     smb     hml  \\\n",
       "0      9   中国宝安  中国宝安集团股份有限公司  2013-07  9.0756  1.8833  5.1896 -0.1922   \n",
       "1      9   中国宝安  中国宝安集团股份有限公司  2013-08 -5.1363  4.5833  5.9407  0.0976   \n",
       "\n",
       "      umd      size       bm  return12       roa       lev       ppe  \\\n",
       "0  6.1829  23.10871  0.43886  13.37412  0.007949  0.430605  0.086185   \n",
       "1 -5.5041  23.10871  0.43886  13.37412  0.007949  0.430605  0.086185   \n",
       "\n",
       "     intang  numanalyst  instown           mv  \n",
       "0  0.031575           0   6.4646  11874173952  \n",
       "1  0.031575           0   6.4646  11874173952  "
      ]
     },
     "execution_count": 7,
     "metadata": {},
     "output_type": "execute_result"
    }
   ],
   "source": [
    "Stock_returns.head(2)"
   ]
  },
  {
   "cell_type": "code",
   "execution_count": null,
   "metadata": {},
   "outputs": [],
   "source": []
  },
  {
   "cell_type": "code",
   "execution_count": null,
   "metadata": {},
   "outputs": [],
   "source": []
  },
  {
   "cell_type": "code",
   "execution_count": null,
   "metadata": {},
   "outputs": [],
   "source": []
  },
  {
   "cell_type": "code",
   "execution_count": null,
   "metadata": {},
   "outputs": [],
   "source": []
  },
  {
   "cell_type": "markdown",
   "metadata": {},
   "source": [
    "## Q2\n",
    "\n",
    "2) Using the data set of stock returns, sort stocks into quintiles by institutional ownership every quarter, hold stocks over the quarter, and calculate monthly portfolio returns"
   ]
  },
  {
   "cell_type": "code",
   "execution_count": null,
   "metadata": {},
   "outputs": [],
   "source": []
  },
  {
   "cell_type": "code",
   "execution_count": null,
   "metadata": {},
   "outputs": [],
   "source": []
  },
  {
   "cell_type": "markdown",
   "metadata": {},
   "source": [
    "## Q3\n",
    "\n",
    "3) Using the data set of stock returns, perform panel regression, and regress stock returns on firm characteristics such as size, book-to-market ratio, return12, roa, leverage, ppe, intang, number of analysts, institutional ownership, controlling for or not for firm and year-month fixed effects. Cluster standard errors by firm and year-month (double clustering)"
   ]
  },
  {
   "cell_type": "code",
   "execution_count": null,
   "metadata": {},
   "outputs": [],
   "source": []
  },
  {
   "cell_type": "code",
   "execution_count": null,
   "metadata": {},
   "outputs": [],
   "source": []
  },
  {
   "cell_type": "markdown",
   "metadata": {},
   "source": [
    "## Q4\n",
    "\n",
    "4) Using the data set of Online sales, aggregate monthly online sales over quarters, download reported quarterly total sales from CSMAR, and plot figures including both online sales and reported quarterly sales."
   ]
  },
  {
   "cell_type": "code",
   "execution_count": null,
   "metadata": {},
   "outputs": [],
   "source": []
  },
  {
   "cell_type": "code",
   "execution_count": null,
   "metadata": {},
   "outputs": [],
   "source": []
  },
  {
   "cell_type": "code",
   "execution_count": null,
   "metadata": {},
   "outputs": [],
   "source": []
  }
 ],
 "metadata": {
  "kernelspec": {
   "display_name": "Python 3",
   "language": "python",
   "name": "python3"
  },
  "language_info": {
   "codemirror_mode": {
    "name": "ipython",
    "version": 3
   },
   "file_extension": ".py",
   "mimetype": "text/x-python",
   "name": "python",
   "nbconvert_exporter": "python",
   "pygments_lexer": "ipython3",
   "version": "3.8.3"
  },
  "toc": {
   "base_numbering": 1,
   "nav_menu": {},
   "number_sections": true,
   "sideBar": true,
   "skip_h1_title": true,
   "title_cell": "Table of Contents",
   "title_sidebar": "Contents",
   "toc_cell": false,
   "toc_position": {},
   "toc_section_display": true,
   "toc_window_display": false
  },
  "varInspector": {
   "cols": {
    "lenName": 16,
    "lenType": 16,
    "lenVar": 40
   },
   "kernels_config": {
    "python": {
     "delete_cmd_postfix": "",
     "delete_cmd_prefix": "del ",
     "library": "var_list.py",
     "varRefreshCmd": "print(var_dic_list())"
    },
    "r": {
     "delete_cmd_postfix": ") ",
     "delete_cmd_prefix": "rm(",
     "library": "var_list.r",
     "varRefreshCmd": "cat(var_dic_list()) "
    }
   },
   "types_to_exclude": [
    "module",
    "function",
    "builtin_function_or_method",
    "instance",
    "_Feature"
   ],
   "window_display": false
  }
 },
 "nbformat": 4,
 "nbformat_minor": 4
}
