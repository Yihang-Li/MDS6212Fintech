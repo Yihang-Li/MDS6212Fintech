{
 "cells": [
  {
   "cell_type": "code",
   "execution_count": 1,
   "metadata": {},
   "outputs": [],
   "source": [
    "import numpy as np\n",
    "import pandas as pd"
   ]
  },
  {
   "cell_type": "code",
   "execution_count": 2,
   "metadata": {},
   "outputs": [],
   "source": [
    "import matplotlib.pyplot as plt\n",
    "%matplotlib inline\n",
    "plt.style.use('ggplot')"
   ]
  },
  {
   "cell_type": "code",
   "execution_count": 3,
   "metadata": {},
   "outputs": [],
   "source": [
    "def get_data(name, cols=None, fmt=None, skipfooter=0):\n",
    "    df = pd.read_csv(name, engine='python',skipfooter=skipfooter)\n",
    "    df = df.set_index('Date')\n",
    "    df.index = pd.to_datetime(df.index, format=fmt)\n",
    "    if cols is None:\n",
    "        return df\n",
    "    else:\n",
    "        return df[cols]\n",
    "        \n",
    "data = get_data(\"data-220020013.csv\")\n",
    "data = data.dropna(how='any')"
   ]
  },
  {
   "cell_type": "code",
   "execution_count": 4,
   "metadata": {},
   "outputs": [
    {
     "data": {
      "text/html": [
       "<div>\n",
       "<style scoped>\n",
       "    .dataframe tbody tr th:only-of-type {\n",
       "        vertical-align: middle;\n",
       "    }\n",
       "\n",
       "    .dataframe tbody tr th {\n",
       "        vertical-align: top;\n",
       "    }\n",
       "\n",
       "    .dataframe thead th {\n",
       "        text-align: right;\n",
       "    }\n",
       "</style>\n",
       "<table border=\"1\" class=\"dataframe\">\n",
       "  <thead>\n",
       "    <tr style=\"text-align: right;\">\n",
       "      <th></th>\n",
       "      <th>fund_1</th>\n",
       "      <th>fund_2</th>\n",
       "      <th>fund_3</th>\n",
       "      <th>fund_4</th>\n",
       "      <th>fund_5</th>\n",
       "      <th>fund_6</th>\n",
       "      <th>fund_7</th>\n",
       "      <th>fund_8</th>\n",
       "      <th>fund_9</th>\n",
       "      <th>fund_10</th>\n",
       "    </tr>\n",
       "    <tr>\n",
       "      <th>Date</th>\n",
       "      <th></th>\n",
       "      <th></th>\n",
       "      <th></th>\n",
       "      <th></th>\n",
       "      <th></th>\n",
       "      <th></th>\n",
       "      <th></th>\n",
       "      <th></th>\n",
       "      <th></th>\n",
       "      <th></th>\n",
       "    </tr>\n",
       "  </thead>\n",
       "  <tbody>\n",
       "    <tr>\n",
       "      <th>2009-03-31</th>\n",
       "      <td>0.029</td>\n",
       "      <td>0.001</td>\n",
       "      <td>-0.137</td>\n",
       "      <td>-0.147</td>\n",
       "      <td>-0.064</td>\n",
       "      <td>-0.114</td>\n",
       "      <td>-0.1019</td>\n",
       "      <td>-0.0308</td>\n",
       "      <td>-0.1102</td>\n",
       "      <td>0.1067</td>\n",
       "    </tr>\n",
       "    <tr>\n",
       "      <th>2009-06-30</th>\n",
       "      <td>0.416</td>\n",
       "      <td>0.443</td>\n",
       "      <td>0.660</td>\n",
       "      <td>0.662</td>\n",
       "      <td>0.475</td>\n",
       "      <td>0.491</td>\n",
       "      <td>0.4290</td>\n",
       "      <td>0.3243</td>\n",
       "      <td>0.0381</td>\n",
       "      <td>-0.0405</td>\n",
       "    </tr>\n",
       "    <tr>\n",
       "      <th>2009-09-30</th>\n",
       "      <td>0.192</td>\n",
       "      <td>0.234</td>\n",
       "      <td>0.305</td>\n",
       "      <td>0.157</td>\n",
       "      <td>0.274</td>\n",
       "      <td>0.198</td>\n",
       "      <td>0.1004</td>\n",
       "      <td>0.2067</td>\n",
       "      <td>0.0066</td>\n",
       "      <td>0.0776</td>\n",
       "    </tr>\n",
       "    <tr>\n",
       "      <th>2009-12-31</th>\n",
       "      <td>-0.002</td>\n",
       "      <td>-0.002</td>\n",
       "      <td>0.141</td>\n",
       "      <td>-0.002</td>\n",
       "      <td>-0.002</td>\n",
       "      <td>0.056</td>\n",
       "      <td>-0.0106</td>\n",
       "      <td>0.0739</td>\n",
       "      <td>0.0207</td>\n",
       "      <td>0.0668</td>\n",
       "    </tr>\n",
       "    <tr>\n",
       "      <th>2010-03-31</th>\n",
       "      <td>0.034</td>\n",
       "      <td>0.019</td>\n",
       "      <td>0.092</td>\n",
       "      <td>0.046</td>\n",
       "      <td>0.054</td>\n",
       "      <td>0.018</td>\n",
       "      <td>-0.0079</td>\n",
       "      <td>0.0322</td>\n",
       "      <td>0.0091</td>\n",
       "      <td>-0.0242</td>\n",
       "    </tr>\n",
       "  </tbody>\n",
       "</table>\n",
       "</div>"
      ],
      "text/plain": [
       "            fund_1  fund_2  fund_3  fund_4  fund_5  fund_6  fund_7  fund_8  \\\n",
       "Date                                                                         \n",
       "2009-03-31   0.029   0.001  -0.137  -0.147  -0.064  -0.114 -0.1019 -0.0308   \n",
       "2009-06-30   0.416   0.443   0.660   0.662   0.475   0.491  0.4290  0.3243   \n",
       "2009-09-30   0.192   0.234   0.305   0.157   0.274   0.198  0.1004  0.2067   \n",
       "2009-12-31  -0.002  -0.002   0.141  -0.002  -0.002   0.056 -0.0106  0.0739   \n",
       "2010-03-31   0.034   0.019   0.092   0.046   0.054   0.018 -0.0079  0.0322   \n",
       "\n",
       "            fund_9  fund_10  \n",
       "Date                         \n",
       "2009-03-31 -0.1102   0.1067  \n",
       "2009-06-30  0.0381  -0.0405  \n",
       "2009-09-30  0.0066   0.0776  \n",
       "2009-12-31  0.0207   0.0668  \n",
       "2010-03-31  0.0091  -0.0242  "
      ]
     },
     "execution_count": 4,
     "metadata": {},
     "output_type": "execute_result"
    }
   ],
   "source": [
    "data.head()"
   ]
  },
  {
   "cell_type": "markdown",
   "metadata": {},
   "source": [
    "# Try [cvxpy](https://mlfinlab.readthedocs.io/en/latest/portfolio_optimisation/mean_variance.html)  [参考](https://hudsonthames.org/portfolio-optimisation-with-mlfinlab-mean-variance-optimisation/)"
   ]
  },
  {
   "cell_type": "markdown",
   "metadata": {},
   "source": [
    "!pip install cvxpy"
   ]
  },
  {
   "cell_type": "code",
   "execution_count": 5,
   "metadata": {},
   "outputs": [],
   "source": [
    "import cvxpy as cp"
   ]
  },
  {
   "cell_type": "markdown",
   "metadata": {},
   "source": [
    "## Efficient Return"
   ]
  },
  {
   "cell_type": "markdown",
   "metadata": {},
   "source": [
    "For this solution, the objective is to maximise the portfolio return given a target risk value by the investor. This is very similar to the efficient_risk solution. The optimiser will find the set of weights which efficiently try to maximise return constrained by the provided target risk, hence the name “efficient return”."
   ]
  },
  {
   "cell_type": "code",
   "execution_count": 6,
   "metadata": {},
   "outputs": [
    {
     "data": {
      "text/plain": [
       "fund_1     0.039049\n",
       "fund_2     0.037306\n",
       "fund_3     0.057404\n",
       "fund_4     0.046604\n",
       "fund_5     0.039430\n",
       "fund_6     0.043906\n",
       "fund_7     0.026451\n",
       "fund_8     0.034362\n",
       "fund_9     0.017449\n",
       "fund_10    0.024913\n",
       "dtype: float64"
      ]
     },
     "execution_count": 6,
     "metadata": {},
     "output_type": "execute_result"
    }
   ],
   "source": [
    "data.mean()"
   ]
  },
  {
   "cell_type": "code",
   "execution_count": 7,
   "metadata": {},
   "outputs": [],
   "source": []
  },
  {
   "cell_type": "code",
   "execution_count": 8,
   "metadata": {},
   "outputs": [],
   "source": [
    "#Non-CVXPY Variables\n",
    "non_cvxpy_variables = {\n",
    "        'asset_prices': data,\n",
    "        'num_assets': data.shape[1],\n",
    "        'covariance': data.cov(),\n",
    "        'asset_names': data.columns,\n",
    "        'expected_returns': data.mean()\n",
    "}\n",
    "cvxpy_variables = [\n",
    "        'risk = cp.quad_form(weights, covariance)',\n",
    "        'portfolio_return = cp.matmul(weights, expected_returns)'\n",
    "]"
   ]
  },
  {
   "cell_type": "code",
   "execution_count": 10,
   "metadata": {},
   "outputs": [],
   "source": [
    "custom_obj = 'cp.Maximize(portfolio_return)'\n",
    "constraints = ['cp.sum(weights) == 1', 'weights >= 0', 'weights <= 1', 'risk <= 0.2']"
   ]
  },
  {
   "cell_type": "markdown",
   "metadata": {},
   "source": [
    "!pip install mlfinlab"
   ]
  },
  {
   "cell_type": "code",
   "execution_count": 11,
   "metadata": {},
   "outputs": [],
   "source": [
    "from mlfinlab.portfolio_optimization import MeanVarianceOptimisation"
   ]
  },
  {
   "cell_type": "code",
   "execution_count": 13,
   "metadata": {},
   "outputs": [],
   "source": [
    "mvo_custom_portfolio = MeanVarianceOptimisation()\n",
    "mvo_custom_portfolio.allocate_custom_objective(non_cvxpy_variables=non_cvxpy_variables,\n",
    "                                               cvxpy_variables=cvxpy_variables,\n",
    "                                               objective_function=custom_obj,\n",
    "                                               constraints=constraints)\n",
    "mvo_custom_weights = mvo_custom_portfolio.weights\n",
    "y_pos = np.arange(len(mvo_custom_weights.columns))"
   ]
  },
  {
   "cell_type": "code",
   "execution_count": 14,
   "metadata": {},
   "outputs": [
    {
     "data": {
      "text/html": [
       "<div>\n",
       "<style scoped>\n",
       "    .dataframe tbody tr th:only-of-type {\n",
       "        vertical-align: middle;\n",
       "    }\n",
       "\n",
       "    .dataframe tbody tr th {\n",
       "        vertical-align: top;\n",
       "    }\n",
       "\n",
       "    .dataframe thead th {\n",
       "        text-align: right;\n",
       "    }\n",
       "</style>\n",
       "<table border=\"1\" class=\"dataframe\">\n",
       "  <thead>\n",
       "    <tr style=\"text-align: right;\">\n",
       "      <th></th>\n",
       "      <th>fund_1</th>\n",
       "      <th>fund_2</th>\n",
       "      <th>fund_3</th>\n",
       "      <th>fund_4</th>\n",
       "      <th>fund_5</th>\n",
       "      <th>fund_6</th>\n",
       "      <th>fund_7</th>\n",
       "      <th>fund_8</th>\n",
       "      <th>fund_9</th>\n",
       "      <th>fund_10</th>\n",
       "    </tr>\n",
       "  </thead>\n",
       "  <tbody>\n",
       "    <tr>\n",
       "      <th>0</th>\n",
       "      <td>0.0</td>\n",
       "      <td>0.0</td>\n",
       "      <td>1.0</td>\n",
       "      <td>0.0</td>\n",
       "      <td>0.0</td>\n",
       "      <td>0.0</td>\n",
       "      <td>0.0</td>\n",
       "      <td>0.0</td>\n",
       "      <td>0.0</td>\n",
       "      <td>0.0</td>\n",
       "    </tr>\n",
       "  </tbody>\n",
       "</table>\n",
       "</div>"
      ],
      "text/plain": [
       "   fund_1  fund_2  fund_3  fund_4  fund_5  fund_6  fund_7  fund_8  fund_9  \\\n",
       "0     0.0     0.0     1.0     0.0     0.0     0.0     0.0     0.0     0.0   \n",
       "\n",
       "   fund_10  \n",
       "0      0.0  "
      ]
     },
     "execution_count": 14,
     "metadata": {},
     "output_type": "execute_result"
    }
   ],
   "source": [
    "mvo_custom_weights"
   ]
  },
  {
   "cell_type": "code",
   "execution_count": 15,
   "metadata": {},
   "outputs": [
    {
     "data": {
      "image/png": "[encoded data removed]",
      "text/plain": [
       "<Figure size 1800x504 with 1 Axes>"
      ]
     },
     "metadata": {},
     "output_type": "display_data"
    }
   ],
   "source": [
    "plt.figure(figsize=(25,7))\n",
    "plt.bar(list(mvo_custom_weights.columns), mvo_custom_weights.values[0])\n",
    "plt.xticks(y_pos, rotation=45, size=10)\n",
    "plt.xlabel('Assets', size=20)\n",
    "plt.ylabel('Asset Weights', size=20)\n",
    "plt.title('Custom Portfolio with Custom Objective Function', size=20)\n",
    "plt.show()"
   ]
  },
  {
   "cell_type": "code",
   "execution_count": 16,
   "metadata": {},
   "outputs": [],
   "source": [
    "from mlfinlab.portfolio_optimization import ReturnsEstimators"
   ]
  },
  {
   "cell_type": "code",
   "execution_count": 17,
   "metadata": {
    "scrolled": true
   },
   "outputs": [
    {
     "data": {
      "text/html": [
       "<div>\n",
       "<style scoped>\n",
       "    .dataframe tbody tr th:only-of-type {\n",
       "        vertical-align: middle;\n",
       "    }\n",
       "\n",
       "    .dataframe tbody tr th {\n",
       "        vertical-align: top;\n",
       "    }\n",
       "\n",
       "    .dataframe thead th {\n",
       "        text-align: right;\n",
       "    }\n",
       "</style>\n",
       "<table border=\"1\" class=\"dataframe\">\n",
       "  <thead>\n",
       "    <tr style=\"text-align: right;\">\n",
       "      <th></th>\n",
       "      <th>fund_1</th>\n",
       "      <th>fund_2</th>\n",
       "      <th>fund_3</th>\n",
       "      <th>fund_4</th>\n",
       "      <th>fund_5</th>\n",
       "      <th>fund_6</th>\n",
       "      <th>fund_7</th>\n",
       "      <th>fund_8</th>\n",
       "      <th>fund_9</th>\n",
       "      <th>fund_10</th>\n",
       "    </tr>\n",
       "    <tr>\n",
       "      <th>Date</th>\n",
       "      <th></th>\n",
       "      <th></th>\n",
       "      <th></th>\n",
       "      <th></th>\n",
       "      <th></th>\n",
       "      <th></th>\n",
       "      <th></th>\n",
       "      <th></th>\n",
       "      <th></th>\n",
       "      <th></th>\n",
       "    </tr>\n",
       "  </thead>\n",
       "  <tbody>\n",
       "    <tr>\n",
       "      <th>2009-03-31</th>\n",
       "      <td>0.029</td>\n",
       "      <td>0.001</td>\n",
       "      <td>-0.137</td>\n",
       "      <td>-0.147</td>\n",
       "      <td>-0.064</td>\n",
       "      <td>-0.114</td>\n",
       "      <td>-0.1019</td>\n",
       "      <td>-0.0308</td>\n",
       "      <td>-0.1102</td>\n",
       "      <td>0.1067</td>\n",
       "    </tr>\n",
       "    <tr>\n",
       "      <th>2009-06-30</th>\n",
       "      <td>0.416</td>\n",
       "      <td>0.443</td>\n",
       "      <td>0.660</td>\n",
       "      <td>0.662</td>\n",
       "      <td>0.475</td>\n",
       "      <td>0.491</td>\n",
       "      <td>0.4290</td>\n",
       "      <td>0.3243</td>\n",
       "      <td>0.0381</td>\n",
       "      <td>-0.0405</td>\n",
       "    </tr>\n",
       "    <tr>\n",
       "      <th>2009-09-30</th>\n",
       "      <td>0.192</td>\n",
       "      <td>0.234</td>\n",
       "      <td>0.305</td>\n",
       "      <td>0.157</td>\n",
       "      <td>0.274</td>\n",
       "      <td>0.198</td>\n",
       "      <td>0.1004</td>\n",
       "      <td>0.2067</td>\n",
       "      <td>0.0066</td>\n",
       "      <td>0.0776</td>\n",
       "    </tr>\n",
       "    <tr>\n",
       "      <th>2009-12-31</th>\n",
       "      <td>-0.002</td>\n",
       "      <td>-0.002</td>\n",
       "      <td>0.141</td>\n",
       "      <td>-0.002</td>\n",
       "      <td>-0.002</td>\n",
       "      <td>0.056</td>\n",
       "      <td>-0.0106</td>\n",
       "      <td>0.0739</td>\n",
       "      <td>0.0207</td>\n",
       "      <td>0.0668</td>\n",
       "    </tr>\n",
       "    <tr>\n",
       "      <th>2010-03-31</th>\n",
       "      <td>0.034</td>\n",
       "      <td>0.019</td>\n",
       "      <td>0.092</td>\n",
       "      <td>0.046</td>\n",
       "      <td>0.054</td>\n",
       "      <td>0.018</td>\n",
       "      <td>-0.0079</td>\n",
       "      <td>0.0322</td>\n",
       "      <td>0.0091</td>\n",
       "      <td>-0.0242</td>\n",
       "    </tr>\n",
       "  </tbody>\n",
       "</table>\n",
       "</div>"
      ],
      "text/plain": [
       "            fund_1  fund_2  fund_3  fund_4  fund_5  fund_6  fund_7  fund_8  \\\n",
       "Date                                                                         \n",
       "2009-03-31   0.029   0.001  -0.137  -0.147  -0.064  -0.114 -0.1019 -0.0308   \n",
       "2009-06-30   0.416   0.443   0.660   0.662   0.475   0.491  0.4290  0.3243   \n",
       "2009-09-30   0.192   0.234   0.305   0.157   0.274   0.198  0.1004  0.2067   \n",
       "2009-12-31  -0.002  -0.002   0.141  -0.002  -0.002   0.056 -0.0106  0.0739   \n",
       "2010-03-31   0.034   0.019   0.092   0.046   0.054   0.018 -0.0079  0.0322   \n",
       "\n",
       "            fund_9  fund_10  \n",
       "Date                         \n",
       "2009-03-31 -0.1102   0.1067  \n",
       "2009-06-30  0.0381  -0.0405  \n",
       "2009-09-30  0.0066   0.0776  \n",
       "2009-12-31  0.0207   0.0668  \n",
       "2010-03-31  0.0091  -0.0242  "
      ]
     },
     "execution_count": 17,
     "metadata": {},
     "output_type": "execute_result"
    }
   ],
   "source": [
    "data.head()"
   ]
  },
  {
   "cell_type": "code",
   "execution_count": 18,
   "metadata": {},
   "outputs": [
    {
     "ename": "SyntaxError",
     "evalue": "invalid character in identifier (<ipython-input-18-24861e98316f>, line 9)",
     "output_type": "error",
     "traceback": [
      "\u001b[0;36m  File \u001b[0;32m\"<ipython-input-18-24861e98316f>\"\u001b[0;36m, line \u001b[0;32m9\u001b[0m\n\u001b[0;31m    rets = ret_est.calculate_returns(ap)\u001b[0m\n\u001b[0m                                        ^\u001b[0m\n\u001b[0;31mSyntaxError\u001b[0m\u001b[0;31m:\u001b[0m invalid character in identifier\n"
     ]
    }
   ],
   "source": [
    "ret_est = ReturnsEstimators()\n",
    "\n",
    "y_weights = {}\n",
    "\n",
    "res=pd.DataFrame()\n",
    "\n",
    "ap = data.loc[f'{year}-03-31':f'{year}-12-31']\n",
    "\n",
    "rets = ret_est.calculate_returns(ap) \n",
    "\n",
    "cov = rets.cov()\n",
    "\n",
    "#-------- You can replace with any scheme/solution you wish\n",
    "\n",
    "mvo = MeanVarianceOptimisation()\n",
    "\n",
    "mvo.allocate(asset_prices=ap, covariance_matrix=cov, target_return = 0.05,solution='efficient_risk')\n",
    "\n",
    "y_weights[year] = np.array(mvo.weights).flatten()\n",
    "\n",
    "#-------------------------------------------------\n",
    "\n",
    "epr = np.dot(rets.mean(), y_weights[year].T) * 252 \n",
    "\n",
    "epv = np.dot(y_weights[year].T, np.dot(rets.cov() * 252, y_weights[year].T)) ** 0.5 \n",
    "\n",
    "esr = epr/epv \n",
    "\n",
    "ap1 = df.loc[f'{year + 1}-01-01':f'{year + 1}-12-31']\n",
    "\n",
    "rets1 = ret_est.calculate_returns(ap1)\n",
    "\n",
    "rpv = np.dot(y_weights[year].T, np.dot(rets1.cov() * 252, y_weights[year].T)) ** 0.5\n",
    "\n",
    "rpr = np.dot(rets1.mean(), y_weights[year].T) * 252\n",
    "\n",
    "rsr = rpr / rpv\n",
    "\n",
    "res = res.append(pd.DataFrame({'epv': epv, 'epr': epr, 'esr': esr,'rpv': rpv, 'rpr': rpr, 'rsr': rsr},index=[year + 1]))\n",
    "\n",
    "display(res, pd.DataFrame(res.mean()))\n",
    "\n"
   ]
  },
  {
   "cell_type": "code",
   "execution_count": null,
   "metadata": {},
   "outputs": [],
   "source": [
    "rebal_days = ['2014/09/30','2015/09/30','2016/09/30','2017/09/30','2018/09/30','2019/09/30']\n",
    "rebal_days = [pd.to_datetime(x) for x in rebal_days]\n",
    "\n",
    "port_value = pd.DataFrame(index=[rebal_days[0]], data=[[100]], columns=[\"Risk Parity\"])\n",
    "port_value_eq = pd.DataFrame(index=[rebal_days[0]], data=[[100]], columns=[\"Equal Weight\"])"
   ]
  },
  {
   "cell_type": "code",
   "execution_count": null,
   "metadata": {},
   "outputs": [],
   "source": [
    "for rebal_date, next_date in zip(rebal_days[:-1],rebal_days[1:]):\n",
    "    train_start_date = rebal_date - pd.DateOffset(years=1)#years=5\n",
    "    train_data = data.loc[train_start_date:rebal_date]\n",
    "    cov = train_data.cov().values\n",
    "    w_star = get_weight(cov)\n",
    "    asset_return = data.loc[rebal_date:next_date]\n",
    "    port_value = record_results(w_star, asset_return, port_value)\n",
    "    w_eq = np.array([1/10]*10)\n",
    "    port_value_eq = record_results(w_eq, asset_return, port_value_eq)"
   ]
  },
  {
   "cell_type": "code",
   "execution_count": null,
   "metadata": {},
   "outputs": [],
   "source": [
    "    "
   ]
  },
  {
   "cell_type": "code",
   "execution_count": 20,
   "metadata": {},
   "outputs": [],
   "source": [
    "data2 = pd.read_excel('stock.xlsx')"
   ]
  },
  {
   "cell_type": "code",
   "execution_count": 21,
   "metadata": {},
   "outputs": [
    {
     "data": {
      "text/html": [
       "<div>\n",
       "<style scoped>\n",
       "    .dataframe tbody tr th:only-of-type {\n",
       "        vertical-align: middle;\n",
       "    }\n",
       "\n",
       "    .dataframe tbody tr th {\n",
       "        vertical-align: top;\n",
       "    }\n",
       "\n",
       "    .dataframe thead th {\n",
       "        text-align: right;\n",
       "    }\n",
       "</style>\n",
       "<table border=\"1\" class=\"dataframe\">\n",
       "  <thead>\n",
       "    <tr style=\"text-align: right;\">\n",
       "      <th></th>\n",
       "      <th>Date</th>\n",
       "      <th>150270.OF</th>\n",
       "      <th>150050.OF</th>\n",
       "      <th>150149.OF</th>\n",
       "      <th>150258.OF</th>\n",
       "    </tr>\n",
       "  </thead>\n",
       "  <tbody>\n",
       "    <tr>\n",
       "      <th>0</th>\n",
       "      <td>2016-01-04</td>\n",
       "      <td>0.720</td>\n",
       "      <td>1.297</td>\n",
       "      <td>0.684</td>\n",
       "      <td>1.422</td>\n",
       "    </tr>\n",
       "    <tr>\n",
       "      <th>1</th>\n",
       "      <td>2016-01-05</td>\n",
       "      <td>0.699</td>\n",
       "      <td>1.267</td>\n",
       "      <td>0.631</td>\n",
       "      <td>1.360</td>\n",
       "    </tr>\n",
       "    <tr>\n",
       "      <th>2</th>\n",
       "      <td>2016-01-06</td>\n",
       "      <td>0.709</td>\n",
       "      <td>1.299</td>\n",
       "      <td>0.645</td>\n",
       "      <td>1.365</td>\n",
       "    </tr>\n",
       "    <tr>\n",
       "      <th>3</th>\n",
       "      <td>2016-01-07</td>\n",
       "      <td>0.638</td>\n",
       "      <td>1.225</td>\n",
       "      <td>0.581</td>\n",
       "      <td>1.287</td>\n",
       "    </tr>\n",
       "    <tr>\n",
       "      <th>4</th>\n",
       "      <td>2016-01-08</td>\n",
       "      <td>0.606</td>\n",
       "      <td>1.230</td>\n",
       "      <td>0.545</td>\n",
       "      <td>1.170</td>\n",
       "    </tr>\n",
       "  </tbody>\n",
       "</table>\n",
       "</div>"
      ],
      "text/plain": [
       "        Date  150270.OF  150050.OF  150149.OF  150258.OF\n",
       "0 2016-01-04      0.720      1.297      0.684      1.422\n",
       "1 2016-01-05      0.699      1.267      0.631      1.360\n",
       "2 2016-01-06      0.709      1.299      0.645      1.365\n",
       "3 2016-01-07      0.638      1.225      0.581      1.287\n",
       "4 2016-01-08      0.606      1.230      0.545      1.170"
      ]
     },
     "execution_count": 21,
     "metadata": {},
     "output_type": "execute_result"
    }
   ],
   "source": [
    "data2.head()"
   ]
  },
  {
   "cell_type": "code",
   "execution_count": 40,
   "metadata": {},
   "outputs": [],
   "source": [
    "def get_data2(name, cols=None, fmt=None, skipfooter=0):\n",
    "    df = pd.read_excel(name)\n",
    "    df = df.set_index('Date')\n",
    "    df.index = pd.to_datetime(df.index, format=fmt)\n",
    "    if cols is None:\n",
    "        return df\n",
    "    else:\n",
    "        return df[cols]\n",
    "        \n",
    "data2 = get_data2(\"stock.xlsx\")\n",
    "data2 = data2.dropna(how='any')"
   ]
  },
  {
   "cell_type": "code",
   "execution_count": 41,
   "metadata": {},
   "outputs": [
    {
     "data": {
      "text/html": [
       "<div>\n",
       "<style scoped>\n",
       "    .dataframe tbody tr th:only-of-type {\n",
       "        vertical-align: middle;\n",
       "    }\n",
       "\n",
       "    .dataframe tbody tr th {\n",
       "        vertical-align: top;\n",
       "    }\n",
       "\n",
       "    .dataframe thead th {\n",
       "        text-align: right;\n",
       "    }\n",
       "</style>\n",
       "<table border=\"1\" class=\"dataframe\">\n",
       "  <thead>\n",
       "    <tr style=\"text-align: right;\">\n",
       "      <th></th>\n",
       "      <th>150270.OF</th>\n",
       "      <th>150050.OF</th>\n",
       "      <th>150149.OF</th>\n",
       "      <th>150258.OF</th>\n",
       "    </tr>\n",
       "    <tr>\n",
       "      <th>Date</th>\n",
       "      <th></th>\n",
       "      <th></th>\n",
       "      <th></th>\n",
       "      <th></th>\n",
       "    </tr>\n",
       "  </thead>\n",
       "  <tbody>\n",
       "    <tr>\n",
       "      <th>2016-01-04</th>\n",
       "      <td>0.720</td>\n",
       "      <td>1.297</td>\n",
       "      <td>0.684</td>\n",
       "      <td>1.422</td>\n",
       "    </tr>\n",
       "    <tr>\n",
       "      <th>2016-01-05</th>\n",
       "      <td>0.699</td>\n",
       "      <td>1.267</td>\n",
       "      <td>0.631</td>\n",
       "      <td>1.360</td>\n",
       "    </tr>\n",
       "    <tr>\n",
       "      <th>2016-01-06</th>\n",
       "      <td>0.709</td>\n",
       "      <td>1.299</td>\n",
       "      <td>0.645</td>\n",
       "      <td>1.365</td>\n",
       "    </tr>\n",
       "    <tr>\n",
       "      <th>2016-01-07</th>\n",
       "      <td>0.638</td>\n",
       "      <td>1.225</td>\n",
       "      <td>0.581</td>\n",
       "      <td>1.287</td>\n",
       "    </tr>\n",
       "    <tr>\n",
       "      <th>2016-01-08</th>\n",
       "      <td>0.606</td>\n",
       "      <td>1.230</td>\n",
       "      <td>0.545</td>\n",
       "      <td>1.170</td>\n",
       "    </tr>\n",
       "    <tr>\n",
       "      <th>...</th>\n",
       "      <td>...</td>\n",
       "      <td>...</td>\n",
       "      <td>...</td>\n",
       "      <td>...</td>\n",
       "    </tr>\n",
       "    <tr>\n",
       "      <th>2020-11-10</th>\n",
       "      <td>1.363</td>\n",
       "      <td>2.299</td>\n",
       "      <td>1.574</td>\n",
       "      <td>1.138</td>\n",
       "    </tr>\n",
       "    <tr>\n",
       "      <th>2020-11-11</th>\n",
       "      <td>1.384</td>\n",
       "      <td>2.298</td>\n",
       "      <td>1.505</td>\n",
       "      <td>1.112</td>\n",
       "    </tr>\n",
       "    <tr>\n",
       "      <th>2020-11-12</th>\n",
       "      <td>1.421</td>\n",
       "      <td>2.271</td>\n",
       "      <td>1.526</td>\n",
       "      <td>1.110</td>\n",
       "    </tr>\n",
       "    <tr>\n",
       "      <th>2020-11-13</th>\n",
       "      <td>1.330</td>\n",
       "      <td>2.279</td>\n",
       "      <td>1.515</td>\n",
       "      <td>1.122</td>\n",
       "    </tr>\n",
       "    <tr>\n",
       "      <th>2020-11-16</th>\n",
       "      <td>1.330</td>\n",
       "      <td>2.279</td>\n",
       "      <td>1.515</td>\n",
       "      <td>1.122</td>\n",
       "    </tr>\n",
       "  </tbody>\n",
       "</table>\n",
       "<p>1185 rows × 4 columns</p>\n",
       "</div>"
      ],
      "text/plain": [
       "            150270.OF  150050.OF  150149.OF  150258.OF\n",
       "Date                                                  \n",
       "2016-01-04      0.720      1.297      0.684      1.422\n",
       "2016-01-05      0.699      1.267      0.631      1.360\n",
       "2016-01-06      0.709      1.299      0.645      1.365\n",
       "2016-01-07      0.638      1.225      0.581      1.287\n",
       "2016-01-08      0.606      1.230      0.545      1.170\n",
       "...               ...        ...        ...        ...\n",
       "2020-11-10      1.363      2.299      1.574      1.138\n",
       "2020-11-11      1.384      2.298      1.505      1.112\n",
       "2020-11-12      1.421      2.271      1.526      1.110\n",
       "2020-11-13      1.330      2.279      1.515      1.122\n",
       "2020-11-16      1.330      2.279      1.515      1.122\n",
       "\n",
       "[1185 rows x 4 columns]"
      ]
     },
     "execution_count": 41,
     "metadata": {},
     "output_type": "execute_result"
    }
   ],
   "source": [
    "data2"
   ]
  },
  {
   "cell_type": "code",
   "execution_count": 42,
   "metadata": {},
   "outputs": [],
   "source": [
    "#Non-CVXPY Variables\n",
    "non_cvxpy_variables = {\n",
    "        'asset_prices': data2,\n",
    "        'num_assets': data2.shape[1],\n",
    "        'covariance': data2.cov(),\n",
    "        'asset_names': data2.columns,\n",
    "        'expected_returns': data2.mean()\n",
    "}\n",
    "cvxpy_variables = [\n",
    "        'risk = cp.quad_form(weights, covariance)',\n",
    "        'portfolio_return = cp.matmul(weights, expected_returns)'\n",
    "]"
   ]
  },
  {
   "cell_type": "code",
   "execution_count": 43,
   "metadata": {},
   "outputs": [
    {
     "data": {
      "text/plain": [
       "4"
      ]
     },
     "execution_count": 43,
     "metadata": {},
     "output_type": "execute_result"
    }
   ],
   "source": [
    "data2.shape[1]"
   ]
  },
  {
   "cell_type": "code",
   "execution_count": 45,
   "metadata": {},
   "outputs": [],
   "source": [
    "custom_obj = 'cp.Maximize(portfolio_return)'\n",
    "constraints = ['cp.sum(weights) == 1', 'weights >= 0', 'weights <= 1', 'risk <= 0.1']"
   ]
  },
  {
   "cell_type": "code",
   "execution_count": 46,
   "metadata": {},
   "outputs": [],
   "source": [
    "mvo_custom_portfolio = MeanVarianceOptimisation()\n",
    "mvo_custom_portfolio.allocate_custom_objective(non_cvxpy_variables=non_cvxpy_variables,\n",
    "                                               cvxpy_variables=cvxpy_variables,\n",
    "                                               objective_function=custom_obj,\n",
    "                                               constraints=constraints)"
   ]
  },
  {
   "cell_type": "code",
   "execution_count": 47,
   "metadata": {},
   "outputs": [],
   "source": [
    "mvo_custom_weights = mvo_custom_portfolio.weights\n",
    "y_pos = np.arange(len(mvo_custom_weights.columns))"
   ]
  },
  {
   "cell_type": "code",
   "execution_count": 48,
   "metadata": {},
   "outputs": [
    {
     "data": {
      "text/html": [
       "<div>\n",
       "<style scoped>\n",
       "    .dataframe tbody tr th:only-of-type {\n",
       "        vertical-align: middle;\n",
       "    }\n",
       "\n",
       "    .dataframe tbody tr th {\n",
       "        vertical-align: top;\n",
       "    }\n",
       "\n",
       "    .dataframe thead th {\n",
       "        text-align: right;\n",
       "    }\n",
       "</style>\n",
       "<table border=\"1\" class=\"dataframe\">\n",
       "  <thead>\n",
       "    <tr style=\"text-align: right;\">\n",
       "      <th></th>\n",
       "      <th>150270.OF</th>\n",
       "      <th>150050.OF</th>\n",
       "      <th>150149.OF</th>\n",
       "      <th>150258.OF</th>\n",
       "    </tr>\n",
       "  </thead>\n",
       "  <tbody>\n",
       "    <tr>\n",
       "      <th>0</th>\n",
       "      <td>0.179172</td>\n",
       "      <td>0.548547</td>\n",
       "      <td>1.801286e-10</td>\n",
       "      <td>0.272281</td>\n",
       "    </tr>\n",
       "  </tbody>\n",
       "</table>\n",
       "</div>"
      ],
      "text/plain": [
       "   150270.OF  150050.OF     150149.OF  150258.OF\n",
       "0   0.179172   0.548547  1.801286e-10   0.272281"
      ]
     },
     "execution_count": 48,
     "metadata": {},
     "output_type": "execute_result"
    }
   ],
   "source": [
    "mvo_custom_weights"
   ]
  },
  {
   "cell_type": "code",
   "execution_count": 49,
   "metadata": {},
   "outputs": [
    {
     "data": {
      "image/png": "[encoded data removed]",
      "text/plain": [
       "<Figure size 1800x504 with 1 Axes>"
      ]
     },
     "metadata": {},
     "output_type": "display_data"
    }
   ],
   "source": [
    "plt.figure(figsize=(25,7))\n",
    "plt.bar(list(mvo_custom_weights.columns), mvo_custom_weights.values[0])\n",
    "plt.xticks(y_pos, rotation=45, size=10)\n",
    "plt.xlabel('Assets', size=20)\n",
    "plt.ylabel('Asset Weights', size=20)\n",
    "plt.title('Custom Portfolio with Custom Objective Function', size=20)\n",
    "plt.show()"
   ]
  },
  {
   "cell_type": "code",
   "execution_count": null,
   "metadata": {},
   "outputs": [],
   "source": []
  }
 ],
 "metadata": {
  "kernelspec": {
   "display_name": "Python 3",
   "language": "python",
   "name": "python3"
  },
  "language_info": {
   "codemirror_mode": {
    "name": "ipython",
    "version": 3
   },
   "file_extension": ".py",
   "mimetype": "text/x-python",
   "name": "python",
   "nbconvert_exporter": "python",
   "pygments_lexer": "ipython3",
   "version": "3.8.3"
  },
  "toc": {
   "base_numbering": 1,
   "nav_menu": {},
   "number_sections": true,
   "sideBar": true,
   "skip_h1_title": false,
   "title_cell": "Table of Contents",
   "title_sidebar": "Contents",
   "toc_cell": false,
   "toc_position": {},
   "toc_section_display": true,
   "toc_window_display": false
  },
  "varInspector": {
   "cols": {
    "lenName": 16,
    "lenType": 16,
    "lenVar": 40
   },
   "kernels_config": {
    "python": {
     "delete_cmd_postfix": "",
     "delete_cmd_prefix": "del ",
     "library": "var_list.py",
     "varRefreshCmd": "print(var_dic_list())"
    },
    "r": {
     "delete_cmd_postfix": ") ",
     "delete_cmd_prefix": "rm(",
     "library": "var_list.r",
     "varRefreshCmd": "cat(var_dic_list()) "
    }
   },
   "types_to_exclude": [
    "module",
    "function",
    "builtin_function_or_method",
    "instance",
    "_Feature"
   ],
   "window_display": false
  }
 },
 "nbformat": 4,
 "nbformat_minor": 4
}
