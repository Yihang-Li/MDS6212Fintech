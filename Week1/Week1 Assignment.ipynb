{
 "cells": [
  {
   "cell_type": "markdown",
   "metadata": {},
   "source": [
    "# <center>MDS6212 Fintech Theory and Practice: Week 1 Assignment<center>\n",
    "\n",
    "----\n",
    "    \n",
    "**220041006 *Yihang Li***"
   ]
  },
  {
   "cell_type": "markdown",
   "metadata": {},
   "source": [
    "**Data confidential requirements:** \n",
    "*     Do not share datasets with others\n",
    "*     Do not post datasets on the Web site\n",
    "*     Datasets can only be used to work on assignments of MDS6212, M.Sc. in Data Science, CUHK-Shenzhen.\n",
    "\n",
    "**Datasets:** \n",
    "*     Week 1 Data.csv\n",
    "*     Week 1 Variable descriptions.xlsx"
   ]
  },
  {
   "cell_type": "markdown",
   "metadata": {},
   "source": [
    "> Reference, Dai, Lili, Jianlei Han, Jing Shi, and Bohui Zhang, 2020, Digital Footprints as Collateral for Debt Collection, working paper.\n",
    "\n",
    "----"
   ]
  },
  {
   "cell_type": "markdown",
   "metadata": {
    "toc": true
   },
   "source": [
    "<h1>Table of Contents<span class=\"tocSkip\"></span></h1>\n",
    "<div class=\"toc\"><ul class=\"toc-item\"><li><span><a href=\"#Q1\" data-toc-modified-id=\"Q1-1\"><span class=\"toc-item-num\">1&nbsp;&nbsp;</span>Q1</a></span><ul class=\"toc-item\"><li><span><a href=\"#Description-for-numeric-variables\" data-toc-modified-id=\"Description-for-numeric-variables-1.1\"><span class=\"toc-item-num\">1.1&nbsp;&nbsp;</span>Description for numeric variables</a></span></li><li><span><a href=\"#Description-for-categorical-variables\" data-toc-modified-id=\"Description-for-categorical-variables-1.2\"><span class=\"toc-item-num\">1.2&nbsp;&nbsp;</span>Description for categorical variables</a></span></li><li><span><a href=\"#Dealing-with-missing-values:-'nominalrates':-3,-'creditlevelasbuyer':-969,-'default':-2795\" data-toc-modified-id=\"Dealing-with-missing-values:-'nominalrates':-3,-'creditlevelasbuyer':-969,-'default':-2795-1.3\"><span class=\"toc-item-num\">1.3&nbsp;&nbsp;</span>Dealing with missing values: 'nominalrates': 3, 'creditlevelasbuyer': 969, 'default': 2795</a></span><ul class=\"toc-item\"><li><span><a href=\"#nominalrates-and-creditlevelasbuyer\" data-toc-modified-id=\"nominalrates-and-creditlevelasbuyer-1.3.1\"><span class=\"toc-item-num\">1.3.1&nbsp;&nbsp;</span>nominalrates and creditlevelasbuyer</a></span></li><li><span><a href=\"#default\" data-toc-modified-id=\"default-1.3.2\"><span class=\"toc-item-num\">1.3.2&nbsp;&nbsp;</span>default</a></span></li></ul></li></ul></li><li><span><a href=\"#Q2\" data-toc-modified-id=\"Q2-2\"><span class=\"toc-item-num\">2&nbsp;&nbsp;</span>Q2</a></span><ul class=\"toc-item\"><li><span><a href=\"#Using-LogisticRegression-from-sklearn\" data-toc-modified-id=\"Using-LogisticRegression-from-sklearn-2.1\"><span class=\"toc-item-num\">2.1&nbsp;&nbsp;</span>Using LogisticRegression from sklearn</a></span></li><li><span><a href=\"#Using-Logit-from-statsmodels\" data-toc-modified-id=\"Using-Logit-from-statsmodels-2.2\"><span class=\"toc-item-num\">2.2&nbsp;&nbsp;</span>Using Logit from statsmodels</a></span></li></ul></li><li><span><a href=\"#Q3\" data-toc-modified-id=\"Q3-3\"><span class=\"toc-item-num\">3&nbsp;&nbsp;</span>Q3</a></span><ul class=\"toc-item\"><li><span><a href=\"#Using-LogisticRegression-from-sklearn\" data-toc-modified-id=\"Using-LogisticRegression-from-sklearn-3.1\"><span class=\"toc-item-num\">3.1&nbsp;&nbsp;</span>Using LogisticRegression from sklearn</a></span></li><li><span><a href=\"#Using-Logit-from-statsmodels\" data-toc-modified-id=\"Using-Logit-from-statsmodels-3.2\"><span class=\"toc-item-num\">3.2&nbsp;&nbsp;</span>Using Logit from statsmodels</a></span></li></ul></li><li><span><a href=\"#Q4\" data-toc-modified-id=\"Q4-4\"><span class=\"toc-item-num\">4&nbsp;&nbsp;</span>Q4</a></span><ul class=\"toc-item\"><li><span><a href=\"#Using-LogisticRegression-from-sklearn\" data-toc-modified-id=\"Using-LogisticRegression-from-sklearn-4.1\"><span class=\"toc-item-num\">4.1&nbsp;&nbsp;</span>Using LogisticRegression from sklearn</a></span></li><li><span><a href=\"#Using-Logit-from-statsmodels\" data-toc-modified-id=\"Using-Logit-from-statsmodels-4.2\"><span class=\"toc-item-num\">4.2&nbsp;&nbsp;</span>Using Logit from statsmodels</a></span></li></ul></li></ul></div>"
   ]
  },
  {
   "cell_type": "code",
   "execution_count": 1,
   "metadata": {},
   "outputs": [],
   "source": [
    "import pandas as pd\n",
    "import numpy as np"
   ]
  },
  {
   "cell_type": "code",
   "execution_count": 2,
   "metadata": {},
   "outputs": [],
   "source": [
    "Data = pd.read_csv('./MDS6212 Week 1 Data.csv', encoding='gbk', skipinitialspace=True)"
   ]
  },
  {
   "cell_type": "code",
   "execution_count": 3,
   "metadata": {
    "scrolled": true
   },
   "outputs": [
    {
     "data": {
      "text/html": [
       "<div>\n",
       "<style scoped>\n",
       "    .dataframe tbody tr th:only-of-type {\n",
       "        vertical-align: middle;\n",
       "    }\n",
       "\n",
       "    .dataframe tbody tr th {\n",
       "        vertical-align: top;\n",
       "    }\n",
       "\n",
       "    .dataframe thead th {\n",
       "        text-align: right;\n",
       "    }\n",
       "</style>\n",
       "<table border=\"1\" class=\"dataframe\">\n",
       "  <thead>\n",
       "    <tr style=\"text-align: right;\">\n",
       "      <th></th>\n",
       "      <th>uid</th>\n",
       "      <th>id</th>\n",
       "      <th>provincecode</th>\n",
       "      <th>birthday</th>\n",
       "      <th>age</th>\n",
       "      <th>gender</th>\n",
       "      <th>areaid</th>\n",
       "      <th>provincename</th>\n",
       "      <th>cityname</th>\n",
       "      <th>areaname</th>\n",
       "      <th>...</th>\n",
       "      <th>highcontact</th>\n",
       "      <th>highcontact20s</th>\n",
       "      <th>numbercontacttotal</th>\n",
       "      <th>default_firstmonth_0</th>\n",
       "      <th>default_firstmonth_30</th>\n",
       "      <th>default_firstmonth_60</th>\n",
       "      <th>delaydate_max</th>\n",
       "      <th>default_max_0</th>\n",
       "      <th>default_max_30</th>\n",
       "      <th>default_max_60</th>\n",
       "    </tr>\n",
       "  </thead>\n",
       "  <tbody>\n",
       "    <tr>\n",
       "      <th>0</th>\n",
       "      <td>72146187</td>\n",
       "      <td>1200345737</td>\n",
       "      <td>43</td>\n",
       "      <td>19951203</td>\n",
       "      <td>24</td>\n",
       "      <td>False</td>\n",
       "      <td>431222</td>\n",
       "      <td>湖南省</td>\n",
       "      <td>怀化市</td>\n",
       "      <td>沅陵县</td>\n",
       "      <td>...</td>\n",
       "      <td>False</td>\n",
       "      <td>False</td>\n",
       "      <td>0</td>\n",
       "      <td>NaN</td>\n",
       "      <td>NaN</td>\n",
       "      <td>NaN</td>\n",
       "      <td>NaN</td>\n",
       "      <td>NaN</td>\n",
       "      <td>NaN</td>\n",
       "      <td>NaN</td>\n",
       "    </tr>\n",
       "    <tr>\n",
       "      <th>1</th>\n",
       "      <td>101101513</td>\n",
       "      <td>1200456775</td>\n",
       "      <td>32</td>\n",
       "      <td>19880607</td>\n",
       "      <td>31</td>\n",
       "      <td>False</td>\n",
       "      <td>320382</td>\n",
       "      <td>江苏省</td>\n",
       "      <td>徐州市</td>\n",
       "      <td>邳州市</td>\n",
       "      <td>...</td>\n",
       "      <td>True</td>\n",
       "      <td>True</td>\n",
       "      <td>47</td>\n",
       "      <td>False</td>\n",
       "      <td>False</td>\n",
       "      <td>False</td>\n",
       "      <td>-3.0</td>\n",
       "      <td>False</td>\n",
       "      <td>False</td>\n",
       "      <td>False</td>\n",
       "    </tr>\n",
       "    <tr>\n",
       "      <th>2</th>\n",
       "      <td>98608810</td>\n",
       "      <td>1200502203</td>\n",
       "      <td>42</td>\n",
       "      <td>19960503</td>\n",
       "      <td>23</td>\n",
       "      <td>False</td>\n",
       "      <td>420821</td>\n",
       "      <td>湖北省</td>\n",
       "      <td>荆门市</td>\n",
       "      <td>京山县</td>\n",
       "      <td>...</td>\n",
       "      <td>True</td>\n",
       "      <td>True</td>\n",
       "      <td>23</td>\n",
       "      <td>NaN</td>\n",
       "      <td>NaN</td>\n",
       "      <td>NaN</td>\n",
       "      <td>NaN</td>\n",
       "      <td>NaN</td>\n",
       "      <td>NaN</td>\n",
       "      <td>NaN</td>\n",
       "    </tr>\n",
       "    <tr>\n",
       "      <th>3</th>\n",
       "      <td>96300664</td>\n",
       "      <td>1200424426</td>\n",
       "      <td>51</td>\n",
       "      <td>20000620</td>\n",
       "      <td>19</td>\n",
       "      <td>True</td>\n",
       "      <td>510824</td>\n",
       "      <td>四川省</td>\n",
       "      <td>广元市</td>\n",
       "      <td>苍溪县</td>\n",
       "      <td>...</td>\n",
       "      <td>False</td>\n",
       "      <td>False</td>\n",
       "      <td>0</td>\n",
       "      <td>False</td>\n",
       "      <td>False</td>\n",
       "      <td>False</td>\n",
       "      <td>-23.0</td>\n",
       "      <td>False</td>\n",
       "      <td>False</td>\n",
       "      <td>False</td>\n",
       "    </tr>\n",
       "    <tr>\n",
       "      <th>4</th>\n",
       "      <td>105585598</td>\n",
       "      <td>1200512684</td>\n",
       "      <td>32</td>\n",
       "      <td>19940122</td>\n",
       "      <td>25</td>\n",
       "      <td>False</td>\n",
       "      <td>321324</td>\n",
       "      <td>江苏省</td>\n",
       "      <td>宿迁市</td>\n",
       "      <td>泗洪县</td>\n",
       "      <td>...</td>\n",
       "      <td>True</td>\n",
       "      <td>True</td>\n",
       "      <td>46</td>\n",
       "      <td>False</td>\n",
       "      <td>False</td>\n",
       "      <td>False</td>\n",
       "      <td>0.0</td>\n",
       "      <td>False</td>\n",
       "      <td>False</td>\n",
       "      <td>False</td>\n",
       "    </tr>\n",
       "  </tbody>\n",
       "</table>\n",
       "<p>5 rows × 47 columns</p>\n",
       "</div>"
      ],
      "text/plain": [
       "         uid          id  provincecode  birthday  age  gender  areaid  \\\n",
       "0   72146187  1200345737            43  19951203   24   False  431222   \n",
       "1  101101513  1200456775            32  19880607   31   False  320382   \n",
       "2   98608810  1200502203            42  19960503   23   False  420821   \n",
       "3   96300664  1200424426            51  20000620   19    True  510824   \n",
       "4  105585598  1200512684            32  19940122   25   False  321324   \n",
       "\n",
       "  provincename cityname areaname  ...  highcontact  highcontact20s  \\\n",
       "0          湖南省      怀化市      沅陵县  ...        False           False   \n",
       "1          江苏省      徐州市      邳州市  ...         True            True   \n",
       "2          湖北省      荆门市      京山县  ...         True            True   \n",
       "3          四川省      广元市      苍溪县  ...        False           False   \n",
       "4          江苏省      宿迁市      泗洪县  ...         True            True   \n",
       "\n",
       "  numbercontacttotal default_firstmonth_0 default_firstmonth_30  \\\n",
       "0                  0                  NaN                   NaN   \n",
       "1                 47                False                 False   \n",
       "2                 23                  NaN                   NaN   \n",
       "3                  0                False                 False   \n",
       "4                 46                False                 False   \n",
       "\n",
       "  default_firstmonth_60  delaydate_max  default_max_0  default_max_30  \\\n",
       "0                   NaN            NaN            NaN             NaN   \n",
       "1                 False           -3.0          False           False   \n",
       "2                   NaN            NaN            NaN             NaN   \n",
       "3                 False          -23.0          False           False   \n",
       "4                 False            0.0          False           False   \n",
       "\n",
       "   default_max_60  \n",
       "0             NaN  \n",
       "1           False  \n",
       "2             NaN  \n",
       "3           False  \n",
       "4           False  \n",
       "\n",
       "[5 rows x 47 columns]"
      ]
     },
     "execution_count": 3,
     "metadata": {},
     "output_type": "execute_result"
    }
   ],
   "source": [
    "Data.head()"
   ]
  },
  {
   "cell_type": "markdown",
   "metadata": {},
   "source": [
    "## Q1"
   ]
  },
  {
   "cell_type": "markdown",
   "metadata": {},
   "source": [
    "*1) Present a table of summary statistics for the key variables including the borrower’s age, gender, loan amount, interest rate, credit scores, a dummy whether the borrower has a frequent contact, approval dummy, and delinquency dummy*"
   ]
  },
  {
   "cell_type": "code",
   "execution_count": 4,
   "metadata": {},
   "outputs": [
    {
     "data": {
      "text/plain": [
       "Index(['uid', 'id', 'provincecode', 'birthday', 'age', 'gender', 'areaid',\n",
       "       'provincename', 'cityname', 'areaname', 'instalments_num',\n",
       "       'instalments_amount', 'shop_address', 'trans_date', 'taobaostartdate',\n",
       "       'taobaoenddate', 'taobaodealno', 'apptimes', 'deal',\n",
       "       'apply_request_sum', 'apply_reject_sum', 'loan_offer_sum',\n",
       "       'repay_fail_sum', 'max_default_days', 'default', 'province',\n",
       "       'nominalrates', 'default30', 'alipaybalance', 'yuebaobalance',\n",
       "       'huabeiamount', 'huabeibalance', 'creditlevelasbuyer', 'tencentscore',\n",
       "       'gaodescore', 'numbercontact', 'numbercontact20s', 'highcontact',\n",
       "       'highcontact20s', 'numbercontacttotal', 'default_firstmonth_0',\n",
       "       'default_firstmonth_30', 'default_firstmonth_60', 'delaydate_max',\n",
       "       'default_max_0', 'default_max_30', 'default_max_60'],\n",
       "      dtype='object')"
      ]
     },
     "execution_count": 4,
     "metadata": {},
     "output_type": "execute_result"
    }
   ],
   "source": [
    "Data.columns"
   ]
  },
  {
   "cell_type": "markdown",
   "metadata": {},
   "source": [
    "> Note: instalments_amount is the loan_amount"
   ]
  },
  {
   "cell_type": "code",
   "execution_count": 5,
   "metadata": {},
   "outputs": [],
   "source": [
    "#Collect the numeric variables and categorical variables mentioned in Q1\n",
    "Key_num_Var_list = [\n",
    "    'age',\n",
    "    'instalments_amount',\n",
    "    'nominalrates',\n",
    "    'creditlevelasbuyer',\n",
    "    'tencentscore',\n",
    "    'gaodescore',\n",
    "]\n",
    "Key_cat_Var_list = ['gender', 'highcontact', 'deal', 'default']"
   ]
  },
  {
   "cell_type": "markdown",
   "metadata": {},
   "source": [
    "### Description for numeric variables"
   ]
  },
  {
   "cell_type": "code",
   "execution_count": 6,
   "metadata": {},
   "outputs": [
    {
     "data": {
      "text/html": [
       "<div>\n",
       "<style scoped>\n",
       "    .dataframe tbody tr th:only-of-type {\n",
       "        vertical-align: middle;\n",
       "    }\n",
       "\n",
       "    .dataframe tbody tr th {\n",
       "        vertical-align: top;\n",
       "    }\n",
       "\n",
       "    .dataframe thead th {\n",
       "        text-align: right;\n",
       "    }\n",
       "</style>\n",
       "<table border=\"1\" class=\"dataframe\">\n",
       "  <thead>\n",
       "    <tr style=\"text-align: right;\">\n",
       "      <th></th>\n",
       "      <th>age</th>\n",
       "      <th>instalments_amount</th>\n",
       "      <th>nominalrates</th>\n",
       "      <th>creditlevelasbuyer</th>\n",
       "      <th>tencentscore</th>\n",
       "      <th>gaodescore</th>\n",
       "    </tr>\n",
       "  </thead>\n",
       "  <tbody>\n",
       "    <tr>\n",
       "      <th>0</th>\n",
       "      <td>24</td>\n",
       "      <td>603000</td>\n",
       "      <td>0.494169</td>\n",
       "      <td>NaN</td>\n",
       "      <td>60.200</td>\n",
       "      <td>0.192094</td>\n",
       "    </tr>\n",
       "    <tr>\n",
       "      <th>1</th>\n",
       "      <td>31</td>\n",
       "      <td>270000</td>\n",
       "      <td>0.359378</td>\n",
       "      <td>1.0</td>\n",
       "      <td>48.000</td>\n",
       "      <td>0.192094</td>\n",
       "    </tr>\n",
       "    <tr>\n",
       "      <th>2</th>\n",
       "      <td>23</td>\n",
       "      <td>398000</td>\n",
       "      <td>0.204553</td>\n",
       "      <td>3.0</td>\n",
       "      <td>60.200</td>\n",
       "      <td>0.156100</td>\n",
       "    </tr>\n",
       "    <tr>\n",
       "      <th>3</th>\n",
       "      <td>19</td>\n",
       "      <td>300000</td>\n",
       "      <td>0.204560</td>\n",
       "      <td>161.0</td>\n",
       "      <td>53.875</td>\n",
       "      <td>0.192094</td>\n",
       "    </tr>\n",
       "    <tr>\n",
       "      <th>4</th>\n",
       "      <td>25</td>\n",
       "      <td>378000</td>\n",
       "      <td>0.252571</td>\n",
       "      <td>29.0</td>\n",
       "      <td>35.000</td>\n",
       "      <td>0.189800</td>\n",
       "    </tr>\n",
       "  </tbody>\n",
       "</table>\n",
       "</div>"
      ],
      "text/plain": [
       "   age  instalments_amount  nominalrates  creditlevelasbuyer  tencentscore  \\\n",
       "0   24              603000      0.494169                 NaN        60.200   \n",
       "1   31              270000      0.359378                 1.0        48.000   \n",
       "2   23              398000      0.204553                 3.0        60.200   \n",
       "3   19              300000      0.204560               161.0        53.875   \n",
       "4   25              378000      0.252571                29.0        35.000   \n",
       "\n",
       "   gaodescore  \n",
       "0    0.192094  \n",
       "1    0.192094  \n",
       "2    0.156100  \n",
       "3    0.192094  \n",
       "4    0.189800  "
      ]
     },
     "execution_count": 6,
     "metadata": {},
     "output_type": "execute_result"
    }
   ],
   "source": [
    "Data[Key_num_Var_list].head()"
   ]
  },
  {
   "cell_type": "code",
   "execution_count": 7,
   "metadata": {
    "scrolled": true
   },
   "outputs": [
    {
     "data": {
      "text/html": [
       "<div>\n",
       "<style scoped>\n",
       "    .dataframe tbody tr th:only-of-type {\n",
       "        vertical-align: middle;\n",
       "    }\n",
       "\n",
       "    .dataframe tbody tr th {\n",
       "        vertical-align: top;\n",
       "    }\n",
       "\n",
       "    .dataframe thead th {\n",
       "        text-align: right;\n",
       "    }\n",
       "</style>\n",
       "<table border=\"1\" class=\"dataframe\">\n",
       "  <thead>\n",
       "    <tr style=\"text-align: right;\">\n",
       "      <th></th>\n",
       "      <th>age</th>\n",
       "      <th>instalments_amount</th>\n",
       "      <th>nominalrates</th>\n",
       "      <th>creditlevelasbuyer</th>\n",
       "      <th>tencentscore</th>\n",
       "      <th>gaodescore</th>\n",
       "    </tr>\n",
       "  </thead>\n",
       "  <tbody>\n",
       "    <tr>\n",
       "      <th>count</th>\n",
       "      <td>5000.000000</td>\n",
       "      <td>5000.000000</td>\n",
       "      <td>4997.000000</td>\n",
       "      <td>4031.000000</td>\n",
       "      <td>5000.000000</td>\n",
       "      <td>5000.000000</td>\n",
       "    </tr>\n",
       "    <tr>\n",
       "      <th>mean</th>\n",
       "      <td>27.675400</td>\n",
       "      <td>406201.420000</td>\n",
       "      <td>0.276058</td>\n",
       "      <td>53.119077</td>\n",
       "      <td>58.608168</td>\n",
       "      <td>0.201975</td>\n",
       "    </tr>\n",
       "    <tr>\n",
       "      <th>std</th>\n",
       "      <td>8.326146</td>\n",
       "      <td>130623.360240</td>\n",
       "      <td>0.085912</td>\n",
       "      <td>108.629757</td>\n",
       "      <td>14.218112</td>\n",
       "      <td>0.076724</td>\n",
       "    </tr>\n",
       "    <tr>\n",
       "      <th>min</th>\n",
       "      <td>18.000000</td>\n",
       "      <td>50000.000000</td>\n",
       "      <td>0.130080</td>\n",
       "      <td>0.000000</td>\n",
       "      <td>9.000000</td>\n",
       "      <td>0.023518</td>\n",
       "    </tr>\n",
       "    <tr>\n",
       "      <th>25%</th>\n",
       "      <td>21.000000</td>\n",
       "      <td>320000.000000</td>\n",
       "      <td>0.204560</td>\n",
       "      <td>0.000000</td>\n",
       "      <td>53.888889</td>\n",
       "      <td>0.192094</td>\n",
       "    </tr>\n",
       "    <tr>\n",
       "      <th>50%</th>\n",
       "      <td>25.000000</td>\n",
       "      <td>398000.000000</td>\n",
       "      <td>0.204579</td>\n",
       "      <td>14.000000</td>\n",
       "      <td>60.200000</td>\n",
       "      <td>0.192094</td>\n",
       "    </tr>\n",
       "    <tr>\n",
       "      <th>75%</th>\n",
       "      <td>32.000000</td>\n",
       "      <td>498000.000000</td>\n",
       "      <td>0.359347</td>\n",
       "      <td>58.000000</td>\n",
       "      <td>65.258929</td>\n",
       "      <td>0.192094</td>\n",
       "    </tr>\n",
       "    <tr>\n",
       "      <th>max</th>\n",
       "      <td>56.000000</td>\n",
       "      <td>869000.000000</td>\n",
       "      <td>0.494185</td>\n",
       "      <td>1830.000000</td>\n",
       "      <td>98.000000</td>\n",
       "      <td>0.732120</td>\n",
       "    </tr>\n",
       "  </tbody>\n",
       "</table>\n",
       "</div>"
      ],
      "text/plain": [
       "               age instalments_amount nominalrates creditlevelasbuyer  \\\n",
       "count  5000.000000        5000.000000  4997.000000        4031.000000   \n",
       "mean     27.675400      406201.420000     0.276058          53.119077   \n",
       "std       8.326146      130623.360240     0.085912         108.629757   \n",
       "min      18.000000       50000.000000     0.130080           0.000000   \n",
       "25%      21.000000      320000.000000     0.204560           0.000000   \n",
       "50%      25.000000      398000.000000     0.204579          14.000000   \n",
       "75%      32.000000      498000.000000     0.359347          58.000000   \n",
       "max      56.000000      869000.000000     0.494185        1830.000000   \n",
       "\n",
       "      tencentscore   gaodescore  \n",
       "count  5000.000000  5000.000000  \n",
       "mean     58.608168     0.201975  \n",
       "std      14.218112     0.076724  \n",
       "min       9.000000     0.023518  \n",
       "25%      53.888889     0.192094  \n",
       "50%      60.200000     0.192094  \n",
       "75%      65.258929     0.192094  \n",
       "max      98.000000     0.732120  "
      ]
     },
     "execution_count": 7,
     "metadata": {},
     "output_type": "execute_result"
    }
   ],
   "source": [
    "Data[Key_num_Var_list].describe().apply(\n",
    "    lambda s: s.apply(lambda x: format(x, 'f')))"
   ]
  },
  {
   "cell_type": "code",
   "execution_count": 8,
   "metadata": {},
   "outputs": [
    {
     "name": "stdout",
     "output_type": "stream",
     "text": [
      "      nominalrates\n",
      "266            NaN\n",
      "1452           NaN\n",
      "4184           NaN\n"
     ]
    }
   ],
   "source": [
    "print(Data[['nominalrates']][pd.isnull(Data[['nominalrates']]).any(axis=1)])"
   ]
  },
  {
   "cell_type": "code",
   "execution_count": 9,
   "metadata": {},
   "outputs": [
    {
     "name": "stdout",
     "output_type": "stream",
     "text": [
      "      creditlevelasbuyer\n",
      "0                    NaN\n",
      "8                    NaN\n",
      "14                   NaN\n",
      "23                   NaN\n",
      "27                   NaN\n",
      "...                  ...\n",
      "4976                 NaN\n",
      "4982                 NaN\n",
      "4984                 NaN\n",
      "4985                 NaN\n",
      "4998                 NaN\n",
      "\n",
      "[969 rows x 1 columns]\n"
     ]
    }
   ],
   "source": [
    "print(Data[['creditlevelasbuyer']][pd.isnull(Data[['creditlevelasbuyer']]).any(axis=1)])"
   ]
  },
  {
   "cell_type": "markdown",
   "metadata": {},
   "source": [
    "*Number of missing values: 'nominalrates': 3, 'creditlevelasbuyer': 969*"
   ]
  },
  {
   "cell_type": "markdown",
   "metadata": {},
   "source": [
    "### Description for categorical variables"
   ]
  },
  {
   "cell_type": "code",
   "execution_count": 10,
   "metadata": {},
   "outputs": [
    {
     "data": {
      "text/html": [
       "<div>\n",
       "<style scoped>\n",
       "    .dataframe tbody tr th:only-of-type {\n",
       "        vertical-align: middle;\n",
       "    }\n",
       "\n",
       "    .dataframe tbody tr th {\n",
       "        vertical-align: top;\n",
       "    }\n",
       "\n",
       "    .dataframe thead th {\n",
       "        text-align: right;\n",
       "    }\n",
       "</style>\n",
       "<table border=\"1\" class=\"dataframe\">\n",
       "  <thead>\n",
       "    <tr style=\"text-align: right;\">\n",
       "      <th></th>\n",
       "      <th>gender</th>\n",
       "      <th>highcontact</th>\n",
       "      <th>deal</th>\n",
       "      <th>default</th>\n",
       "    </tr>\n",
       "  </thead>\n",
       "  <tbody>\n",
       "    <tr>\n",
       "      <th>0</th>\n",
       "      <td>False</td>\n",
       "      <td>False</td>\n",
       "      <td>0</td>\n",
       "      <td>NaN</td>\n",
       "    </tr>\n",
       "    <tr>\n",
       "      <th>1</th>\n",
       "      <td>False</td>\n",
       "      <td>True</td>\n",
       "      <td>1</td>\n",
       "      <td>False</td>\n",
       "    </tr>\n",
       "    <tr>\n",
       "      <th>2</th>\n",
       "      <td>False</td>\n",
       "      <td>True</td>\n",
       "      <td>0</td>\n",
       "      <td>NaN</td>\n",
       "    </tr>\n",
       "    <tr>\n",
       "      <th>3</th>\n",
       "      <td>True</td>\n",
       "      <td>False</td>\n",
       "      <td>1</td>\n",
       "      <td>False</td>\n",
       "    </tr>\n",
       "    <tr>\n",
       "      <th>4</th>\n",
       "      <td>False</td>\n",
       "      <td>True</td>\n",
       "      <td>1</td>\n",
       "      <td>False</td>\n",
       "    </tr>\n",
       "  </tbody>\n",
       "</table>\n",
       "</div>"
      ],
      "text/plain": [
       "   gender  highcontact  deal default\n",
       "0   False        False     0     NaN\n",
       "1   False         True     1   False\n",
       "2   False         True     0     NaN\n",
       "3    True        False     1   False\n",
       "4   False         True     1   False"
      ]
     },
     "execution_count": 10,
     "metadata": {},
     "output_type": "execute_result"
    }
   ],
   "source": [
    "Data[Key_cat_Var_list].head()"
   ]
  },
  {
   "cell_type": "code",
   "execution_count": 11,
   "metadata": {},
   "outputs": [
    {
     "data": {
      "text/html": [
       "<div>\n",
       "<style scoped>\n",
       "    .dataframe tbody tr th:only-of-type {\n",
       "        vertical-align: middle;\n",
       "    }\n",
       "\n",
       "    .dataframe tbody tr th {\n",
       "        vertical-align: top;\n",
       "    }\n",
       "\n",
       "    .dataframe thead th {\n",
       "        text-align: right;\n",
       "    }\n",
       "</style>\n",
       "<table border=\"1\" class=\"dataframe\">\n",
       "  <thead>\n",
       "    <tr style=\"text-align: right;\">\n",
       "      <th></th>\n",
       "      <th>gender</th>\n",
       "      <th>highcontact</th>\n",
       "      <th>deal</th>\n",
       "      <th>default</th>\n",
       "    </tr>\n",
       "  </thead>\n",
       "  <tbody>\n",
       "    <tr>\n",
       "      <th>False</th>\n",
       "      <td>4267</td>\n",
       "      <td>2539</td>\n",
       "      <td>2793</td>\n",
       "      <td>1280</td>\n",
       "    </tr>\n",
       "    <tr>\n",
       "      <th>True</th>\n",
       "      <td>733</td>\n",
       "      <td>2461</td>\n",
       "      <td>2207</td>\n",
       "      <td>925</td>\n",
       "    </tr>\n",
       "  </tbody>\n",
       "</table>\n",
       "</div>"
      ],
      "text/plain": [
       "       gender  highcontact  deal  default\n",
       "False    4267         2539  2793     1280\n",
       "True      733         2461  2207      925"
      ]
     },
     "execution_count": 11,
     "metadata": {},
     "output_type": "execute_result"
    }
   ],
   "source": [
    "Data[Key_cat_Var_list].apply(lambda s: s.value_counts())\n",
    "#For 'deal', True: 1, False: 0"
   ]
  },
  {
   "cell_type": "code",
   "execution_count": 12,
   "metadata": {},
   "outputs": [
    {
     "name": "stdout",
     "output_type": "stream",
     "text": [
      "     default\n",
      "0        NaN\n",
      "2        NaN\n",
      "7        NaN\n",
      "10       NaN\n",
      "11       NaN\n",
      "...      ...\n",
      "4989     NaN\n",
      "4990     NaN\n",
      "4995     NaN\n",
      "4997     NaN\n",
      "4999     NaN\n",
      "\n",
      "[2795 rows x 1 columns]\n"
     ]
    }
   ],
   "source": [
    "print(Data[['default']][pd.isnull(Data[['default']]).any(axis=1)])"
   ]
  },
  {
   "cell_type": "markdown",
   "metadata": {},
   "source": [
    "*Number of missing values: 'default': 2795*"
   ]
  },
  {
   "cell_type": "code",
   "execution_count": 13,
   "metadata": {},
   "outputs": [],
   "source": [
    "#Not Neccessary\n",
    "# #Convert True to 1, False to 0\n",
    "# Data.gender = Data.gender.map({True:1, False:0})#.fillna(Data.gender)\n",
    "# Data.highcontact = Data.highcontact.map({True:1, False:0})\n",
    "# Data.default = Data.default.map({True:1, False:0})"
   ]
  },
  {
   "cell_type": "markdown",
   "metadata": {},
   "source": [
    "### Dealing with missing values: 'nominalrates': 3, 'creditlevelasbuyer': 969, 'default': 2795"
   ]
  },
  {
   "cell_type": "code",
   "execution_count": 14,
   "metadata": {
    "scrolled": true
   },
   "outputs": [],
   "source": [
    "Key_Data = Data[Key_num_Var_list + Key_cat_Var_list]"
   ]
  },
  {
   "cell_type": "code",
   "execution_count": 15,
   "metadata": {},
   "outputs": [
    {
     "data": {
      "text/html": [
       "<div>\n",
       "<style scoped>\n",
       "    .dataframe tbody tr th:only-of-type {\n",
       "        vertical-align: middle;\n",
       "    }\n",
       "\n",
       "    .dataframe tbody tr th {\n",
       "        vertical-align: top;\n",
       "    }\n",
       "\n",
       "    .dataframe thead th {\n",
       "        text-align: right;\n",
       "    }\n",
       "</style>\n",
       "<table border=\"1\" class=\"dataframe\">\n",
       "  <thead>\n",
       "    <tr style=\"text-align: right;\">\n",
       "      <th></th>\n",
       "      <th>age</th>\n",
       "      <th>instalments_amount</th>\n",
       "      <th>nominalrates</th>\n",
       "      <th>creditlevelasbuyer</th>\n",
       "      <th>tencentscore</th>\n",
       "      <th>gaodescore</th>\n",
       "      <th>gender</th>\n",
       "      <th>highcontact</th>\n",
       "      <th>deal</th>\n",
       "      <th>default</th>\n",
       "    </tr>\n",
       "  </thead>\n",
       "  <tbody>\n",
       "    <tr>\n",
       "      <th>0</th>\n",
       "      <td>24</td>\n",
       "      <td>603000</td>\n",
       "      <td>0.494169</td>\n",
       "      <td>NaN</td>\n",
       "      <td>60.200</td>\n",
       "      <td>0.192094</td>\n",
       "      <td>False</td>\n",
       "      <td>False</td>\n",
       "      <td>0</td>\n",
       "      <td>NaN</td>\n",
       "    </tr>\n",
       "    <tr>\n",
       "      <th>1</th>\n",
       "      <td>31</td>\n",
       "      <td>270000</td>\n",
       "      <td>0.359378</td>\n",
       "      <td>1.0</td>\n",
       "      <td>48.000</td>\n",
       "      <td>0.192094</td>\n",
       "      <td>False</td>\n",
       "      <td>True</td>\n",
       "      <td>1</td>\n",
       "      <td>False</td>\n",
       "    </tr>\n",
       "    <tr>\n",
       "      <th>2</th>\n",
       "      <td>23</td>\n",
       "      <td>398000</td>\n",
       "      <td>0.204553</td>\n",
       "      <td>3.0</td>\n",
       "      <td>60.200</td>\n",
       "      <td>0.156100</td>\n",
       "      <td>False</td>\n",
       "      <td>True</td>\n",
       "      <td>0</td>\n",
       "      <td>NaN</td>\n",
       "    </tr>\n",
       "    <tr>\n",
       "      <th>3</th>\n",
       "      <td>19</td>\n",
       "      <td>300000</td>\n",
       "      <td>0.204560</td>\n",
       "      <td>161.0</td>\n",
       "      <td>53.875</td>\n",
       "      <td>0.192094</td>\n",
       "      <td>True</td>\n",
       "      <td>False</td>\n",
       "      <td>1</td>\n",
       "      <td>False</td>\n",
       "    </tr>\n",
       "    <tr>\n",
       "      <th>4</th>\n",
       "      <td>25</td>\n",
       "      <td>378000</td>\n",
       "      <td>0.252571</td>\n",
       "      <td>29.0</td>\n",
       "      <td>35.000</td>\n",
       "      <td>0.189800</td>\n",
       "      <td>False</td>\n",
       "      <td>True</td>\n",
       "      <td>1</td>\n",
       "      <td>False</td>\n",
       "    </tr>\n",
       "  </tbody>\n",
       "</table>\n",
       "</div>"
      ],
      "text/plain": [
       "   age  instalments_amount  nominalrates  creditlevelasbuyer  tencentscore  \\\n",
       "0   24              603000      0.494169                 NaN        60.200   \n",
       "1   31              270000      0.359378                 1.0        48.000   \n",
       "2   23              398000      0.204553                 3.0        60.200   \n",
       "3   19              300000      0.204560               161.0        53.875   \n",
       "4   25              378000      0.252571                29.0        35.000   \n",
       "\n",
       "   gaodescore  gender  highcontact  deal default  \n",
       "0    0.192094   False        False     0     NaN  \n",
       "1    0.192094   False         True     1   False  \n",
       "2    0.156100   False         True     0     NaN  \n",
       "3    0.192094    True        False     1   False  \n",
       "4    0.189800   False         True     1   False  "
      ]
     },
     "execution_count": 15,
     "metadata": {},
     "output_type": "execute_result"
    }
   ],
   "source": [
    "Key_Data.head()"
   ]
  },
  {
   "cell_type": "markdown",
   "metadata": {},
   "source": [
    "#### nominalrates and creditlevelasbuyer"
   ]
  },
  {
   "cell_type": "markdown",
   "metadata": {},
   "source": [
    "*For nominalrates, since there are only 3 missing values, we simply delete the row of those three.*"
   ]
  },
  {
   "cell_type": "code",
   "execution_count": 16,
   "metadata": {},
   "outputs": [],
   "source": [
    "Key_Data = Key_Data[Key_Data['nominalrates'].notnull()]\n",
    "Key_Data.reset_index(drop = True, inplace = True)"
   ]
  },
  {
   "cell_type": "markdown",
   "metadata": {},
   "source": [
    "*For convinient, we also delete the rows where creditlevelasbuyer is missing, because its missing values is not so much.*"
   ]
  },
  {
   "cell_type": "code",
   "execution_count": 17,
   "metadata": {},
   "outputs": [],
   "source": [
    "Key_Data = Key_Data[Key_Data['creditlevelasbuyer'].notnull()]\n",
    "Key_Data.reset_index(drop = True, inplace = True)"
   ]
  },
  {
   "cell_type": "code",
   "execution_count": 18,
   "metadata": {},
   "outputs": [
    {
     "data": {
      "text/html": [
       "<div>\n",
       "<style scoped>\n",
       "    .dataframe tbody tr th:only-of-type {\n",
       "        vertical-align: middle;\n",
       "    }\n",
       "\n",
       "    .dataframe tbody tr th {\n",
       "        vertical-align: top;\n",
       "    }\n",
       "\n",
       "    .dataframe thead th {\n",
       "        text-align: right;\n",
       "    }\n",
       "</style>\n",
       "<table border=\"1\" class=\"dataframe\">\n",
       "  <thead>\n",
       "    <tr style=\"text-align: right;\">\n",
       "      <th></th>\n",
       "      <th>age</th>\n",
       "      <th>instalments_amount</th>\n",
       "      <th>nominalrates</th>\n",
       "      <th>creditlevelasbuyer</th>\n",
       "      <th>tencentscore</th>\n",
       "      <th>gaodescore</th>\n",
       "      <th>deal</th>\n",
       "    </tr>\n",
       "  </thead>\n",
       "  <tbody>\n",
       "    <tr>\n",
       "      <th>count</th>\n",
       "      <td>4029.000000</td>\n",
       "      <td>4029.000000</td>\n",
       "      <td>4029.000000</td>\n",
       "      <td>4029.000000</td>\n",
       "      <td>4029.000000</td>\n",
       "      <td>4029.000000</td>\n",
       "      <td>4029.000000</td>\n",
       "    </tr>\n",
       "    <tr>\n",
       "      <th>mean</th>\n",
       "      <td>27.384711</td>\n",
       "      <td>405224.447754</td>\n",
       "      <td>0.268659</td>\n",
       "      <td>52.924795</td>\n",
       "      <td>58.547673</td>\n",
       "      <td>0.202780</td>\n",
       "      <td>0.451229</td>\n",
       "    </tr>\n",
       "    <tr>\n",
       "      <th>std</th>\n",
       "      <td>8.143781</td>\n",
       "      <td>128196.165282</td>\n",
       "      <td>0.078455</td>\n",
       "      <td>108.302046</td>\n",
       "      <td>14.449751</td>\n",
       "      <td>0.074965</td>\n",
       "      <td>0.497677</td>\n",
       "    </tr>\n",
       "    <tr>\n",
       "      <th>min</th>\n",
       "      <td>18.000000</td>\n",
       "      <td>65000.000000</td>\n",
       "      <td>0.130080</td>\n",
       "      <td>0.000000</td>\n",
       "      <td>10.000000</td>\n",
       "      <td>0.023518</td>\n",
       "      <td>0.000000</td>\n",
       "    </tr>\n",
       "    <tr>\n",
       "      <th>25%</th>\n",
       "      <td>21.000000</td>\n",
       "      <td>320000.000000</td>\n",
       "      <td>0.204560</td>\n",
       "      <td>0.000000</td>\n",
       "      <td>53.000000</td>\n",
       "      <td>0.192094</td>\n",
       "      <td>0.000000</td>\n",
       "    </tr>\n",
       "    <tr>\n",
       "      <th>50%</th>\n",
       "      <td>25.000000</td>\n",
       "      <td>398000.000000</td>\n",
       "      <td>0.204578</td>\n",
       "      <td>14.000000</td>\n",
       "      <td>60.200000</td>\n",
       "      <td>0.192094</td>\n",
       "      <td>0.000000</td>\n",
       "    </tr>\n",
       "    <tr>\n",
       "      <th>75%</th>\n",
       "      <td>32.000000</td>\n",
       "      <td>490000.000000</td>\n",
       "      <td>0.359347</td>\n",
       "      <td>58.000000</td>\n",
       "      <td>66.000000</td>\n",
       "      <td>0.192094</td>\n",
       "      <td>1.000000</td>\n",
       "    </tr>\n",
       "    <tr>\n",
       "      <th>max</th>\n",
       "      <td>56.000000</td>\n",
       "      <td>869000.000000</td>\n",
       "      <td>0.494185</td>\n",
       "      <td>1830.000000</td>\n",
       "      <td>98.000000</td>\n",
       "      <td>0.732120</td>\n",
       "      <td>1.000000</td>\n",
       "    </tr>\n",
       "  </tbody>\n",
       "</table>\n",
       "</div>"
      ],
      "text/plain": [
       "               age  instalments_amount  nominalrates  creditlevelasbuyer  \\\n",
       "count  4029.000000         4029.000000   4029.000000         4029.000000   \n",
       "mean     27.384711       405224.447754      0.268659           52.924795   \n",
       "std       8.143781       128196.165282      0.078455          108.302046   \n",
       "min      18.000000        65000.000000      0.130080            0.000000   \n",
       "25%      21.000000       320000.000000      0.204560            0.000000   \n",
       "50%      25.000000       398000.000000      0.204578           14.000000   \n",
       "75%      32.000000       490000.000000      0.359347           58.000000   \n",
       "max      56.000000       869000.000000      0.494185         1830.000000   \n",
       "\n",
       "       tencentscore   gaodescore         deal  \n",
       "count   4029.000000  4029.000000  4029.000000  \n",
       "mean      58.547673     0.202780     0.451229  \n",
       "std       14.449751     0.074965     0.497677  \n",
       "min       10.000000     0.023518     0.000000  \n",
       "25%       53.000000     0.192094     0.000000  \n",
       "50%       60.200000     0.192094     0.000000  \n",
       "75%       66.000000     0.192094     1.000000  \n",
       "max       98.000000     0.732120     1.000000  "
      ]
     },
     "execution_count": 18,
     "metadata": {},
     "output_type": "execute_result"
    }
   ],
   "source": [
    "Key_Data.describe()"
   ]
  },
  {
   "cell_type": "markdown",
   "metadata": {},
   "source": [
    "*By doing so, we can focus on dealing with the huge propotion missing values of default*\n",
    "\n",
    "*Now we have 4029 observations in total*"
   ]
  },
  {
   "cell_type": "markdown",
   "metadata": {},
   "source": [
    "#### default"
   ]
  },
  {
   "cell_type": "markdown",
   "metadata": {},
   "source": [
    "*The idea is: Consider default vs other variables in the Key_Data, use non-missing data to build a logistic classifier, and then use such classifier to predict the value of missing default.*"
   ]
  },
  {
   "cell_type": "code",
   "execution_count": 19,
   "metadata": {},
   "outputs": [],
   "source": [
    "nm_Data = Key_Data[Key_Data['default'].notnull()]\n",
    "nm_Data.reset_index(drop = True, inplace = True)"
   ]
  },
  {
   "cell_type": "code",
   "execution_count": 20,
   "metadata": {},
   "outputs": [
    {
     "data": {
      "text/html": [
       "<div>\n",
       "<style scoped>\n",
       "    .dataframe tbody tr th:only-of-type {\n",
       "        vertical-align: middle;\n",
       "    }\n",
       "\n",
       "    .dataframe tbody tr th {\n",
       "        vertical-align: top;\n",
       "    }\n",
       "\n",
       "    .dataframe thead th {\n",
       "        text-align: right;\n",
       "    }\n",
       "</style>\n",
       "<table border=\"1\" class=\"dataframe\">\n",
       "  <thead>\n",
       "    <tr style=\"text-align: right;\">\n",
       "      <th></th>\n",
       "      <th>age</th>\n",
       "      <th>instalments_amount</th>\n",
       "      <th>nominalrates</th>\n",
       "      <th>creditlevelasbuyer</th>\n",
       "      <th>tencentscore</th>\n",
       "      <th>gaodescore</th>\n",
       "      <th>deal</th>\n",
       "    </tr>\n",
       "  </thead>\n",
       "  <tbody>\n",
       "    <tr>\n",
       "      <th>count</th>\n",
       "      <td>1850.000000</td>\n",
       "      <td>1850.000000</td>\n",
       "      <td>1850.000000</td>\n",
       "      <td>1850.000000</td>\n",
       "      <td>1850.000000</td>\n",
       "      <td>1850.000000</td>\n",
       "      <td>1850.000000</td>\n",
       "    </tr>\n",
       "    <tr>\n",
       "      <th>mean</th>\n",
       "      <td>26.816757</td>\n",
       "      <td>389656.216216</td>\n",
       "      <td>0.282377</td>\n",
       "      <td>68.390811</td>\n",
       "      <td>55.282119</td>\n",
       "      <td>0.193852</td>\n",
       "      <td>0.979459</td>\n",
       "    </tr>\n",
       "    <tr>\n",
       "      <th>std</th>\n",
       "      <td>7.473439</td>\n",
       "      <td>121658.903413</td>\n",
       "      <td>0.078242</td>\n",
       "      <td>125.680866</td>\n",
       "      <td>15.979269</td>\n",
       "      <td>0.070673</td>\n",
       "      <td>0.141878</td>\n",
       "    </tr>\n",
       "    <tr>\n",
       "      <th>min</th>\n",
       "      <td>18.000000</td>\n",
       "      <td>65000.000000</td>\n",
       "      <td>0.130080</td>\n",
       "      <td>0.000000</td>\n",
       "      <td>10.000000</td>\n",
       "      <td>0.023518</td>\n",
       "      <td>0.000000</td>\n",
       "    </tr>\n",
       "    <tr>\n",
       "      <th>25%</th>\n",
       "      <td>21.000000</td>\n",
       "      <td>300000.000000</td>\n",
       "      <td>0.204561</td>\n",
       "      <td>3.000000</td>\n",
       "      <td>44.607143</td>\n",
       "      <td>0.187434</td>\n",
       "      <td>1.000000</td>\n",
       "    </tr>\n",
       "    <tr>\n",
       "      <th>50%</th>\n",
       "      <td>25.000000</td>\n",
       "      <td>398000.000000</td>\n",
       "      <td>0.252573</td>\n",
       "      <td>26.000000</td>\n",
       "      <td>58.550000</td>\n",
       "      <td>0.192094</td>\n",
       "      <td>1.000000</td>\n",
       "    </tr>\n",
       "    <tr>\n",
       "      <th>75%</th>\n",
       "      <td>31.000000</td>\n",
       "      <td>438000.000000</td>\n",
       "      <td>0.359347</td>\n",
       "      <td>77.750000</td>\n",
       "      <td>66.160714</td>\n",
       "      <td>0.192094</td>\n",
       "      <td>1.000000</td>\n",
       "    </tr>\n",
       "    <tr>\n",
       "      <th>max</th>\n",
       "      <td>55.000000</td>\n",
       "      <td>869000.000000</td>\n",
       "      <td>0.494180</td>\n",
       "      <td>1830.000000</td>\n",
       "      <td>96.166667</td>\n",
       "      <td>0.638378</td>\n",
       "      <td>1.000000</td>\n",
       "    </tr>\n",
       "  </tbody>\n",
       "</table>\n",
       "</div>"
      ],
      "text/plain": [
       "               age  instalments_amount  nominalrates  creditlevelasbuyer  \\\n",
       "count  1850.000000         1850.000000   1850.000000         1850.000000   \n",
       "mean     26.816757       389656.216216      0.282377           68.390811   \n",
       "std       7.473439       121658.903413      0.078242          125.680866   \n",
       "min      18.000000        65000.000000      0.130080            0.000000   \n",
       "25%      21.000000       300000.000000      0.204561            3.000000   \n",
       "50%      25.000000       398000.000000      0.252573           26.000000   \n",
       "75%      31.000000       438000.000000      0.359347           77.750000   \n",
       "max      55.000000       869000.000000      0.494180         1830.000000   \n",
       "\n",
       "       tencentscore   gaodescore         deal  \n",
       "count   1850.000000  1850.000000  1850.000000  \n",
       "mean      55.282119     0.193852     0.979459  \n",
       "std       15.979269     0.070673     0.141878  \n",
       "min       10.000000     0.023518     0.000000  \n",
       "25%       44.607143     0.187434     1.000000  \n",
       "50%       58.550000     0.192094     1.000000  \n",
       "75%       66.160714     0.192094     1.000000  \n",
       "max       96.166667     0.638378     1.000000  "
      ]
     },
     "execution_count": 20,
     "metadata": {},
     "output_type": "execute_result"
    }
   ],
   "source": [
    "nm_Data.describe()"
   ]
  },
  {
   "cell_type": "markdown",
   "metadata": {},
   "source": [
    "*we have 1850 non-missing values in total*"
   ]
  },
  {
   "cell_type": "code",
   "execution_count": 21,
   "metadata": {},
   "outputs": [
    {
     "data": {
      "text/html": [
       "<div>\n",
       "<style scoped>\n",
       "    .dataframe tbody tr th:only-of-type {\n",
       "        vertical-align: middle;\n",
       "    }\n",
       "\n",
       "    .dataframe tbody tr th {\n",
       "        vertical-align: top;\n",
       "    }\n",
       "\n",
       "    .dataframe thead th {\n",
       "        text-align: right;\n",
       "    }\n",
       "</style>\n",
       "<table border=\"1\" class=\"dataframe\">\n",
       "  <thead>\n",
       "    <tr style=\"text-align: right;\">\n",
       "      <th></th>\n",
       "      <th>age</th>\n",
       "      <th>instalments_amount</th>\n",
       "      <th>nominalrates</th>\n",
       "      <th>creditlevelasbuyer</th>\n",
       "      <th>tencentscore</th>\n",
       "      <th>gaodescore</th>\n",
       "      <th>gender</th>\n",
       "      <th>highcontact</th>\n",
       "      <th>deal</th>\n",
       "      <th>default</th>\n",
       "    </tr>\n",
       "  </thead>\n",
       "  <tbody>\n",
       "    <tr>\n",
       "      <th>0</th>\n",
       "      <td>31</td>\n",
       "      <td>270000</td>\n",
       "      <td>0.359378</td>\n",
       "      <td>1.0</td>\n",
       "      <td>48.0</td>\n",
       "      <td>0.192094</td>\n",
       "      <td>False</td>\n",
       "      <td>True</td>\n",
       "      <td>1</td>\n",
       "      <td>False</td>\n",
       "    </tr>\n",
       "  </tbody>\n",
       "</table>\n",
       "</div>"
      ],
      "text/plain": [
       "   age  instalments_amount  nominalrates  creditlevelasbuyer  tencentscore  \\\n",
       "0   31              270000      0.359378                 1.0          48.0   \n",
       "\n",
       "   gaodescore  gender  highcontact  deal default  \n",
       "0    0.192094   False         True     1   False  "
      ]
     },
     "execution_count": 21,
     "metadata": {},
     "output_type": "execute_result"
    }
   ],
   "source": [
    "nm_Data.head(1)"
   ]
  },
  {
   "cell_type": "code",
   "execution_count": 22,
   "metadata": {},
   "outputs": [],
   "source": [
    "nm_X = nm_Data[[i for i in nm_Data.columns if i not in ['default']]]\n",
    "nm_y = nm_Data['default']"
   ]
  },
  {
   "cell_type": "code",
   "execution_count": 23,
   "metadata": {},
   "outputs": [],
   "source": [
    "from sklearn.preprocessing import StandardScaler\n",
    "from sklearn.linear_model import LogisticRegression\n",
    "#We can also use Statsmodels.api"
   ]
  },
  {
   "cell_type": "code",
   "execution_count": 24,
   "metadata": {},
   "outputs": [],
   "source": [
    "scaler = StandardScaler()\n",
    "nm_clf = LogisticRegression()\n",
    "nm_X = scaler.fit(nm_X).transform(nm_X)"
   ]
  },
  {
   "cell_type": "code",
   "execution_count": 25,
   "metadata": {},
   "outputs": [
    {
     "data": {
      "text/plain": [
       "LogisticRegression()"
      ]
     },
     "execution_count": 25,
     "metadata": {},
     "output_type": "execute_result"
    }
   ],
   "source": [
    "nm_clf.fit(nm_X, nm_y.astype(bool))"
   ]
  },
  {
   "cell_type": "code",
   "execution_count": 26,
   "metadata": {},
   "outputs": [],
   "source": [
    "m_Data = Key_Data[Key_Data['default'].isnull()]\n",
    "m_Data.reset_index(drop = True, inplace = True)"
   ]
  },
  {
   "cell_type": "code",
   "execution_count": 27,
   "metadata": {},
   "outputs": [],
   "source": [
    "m_X = m_Data[[i for i in nm_Data.columns if i not in ['default']]]\n",
    "m_X = scaler.fit(m_X).transform(m_X)"
   ]
  },
  {
   "cell_type": "code",
   "execution_count": 28,
   "metadata": {},
   "outputs": [
    {
     "data": {
      "text/plain": [
       "array([False, False, False, ..., False,  True, False])"
      ]
     },
     "execution_count": 28,
     "metadata": {},
     "output_type": "execute_result"
    }
   ],
   "source": [
    "nm_clf.predict(m_X)"
   ]
  },
  {
   "cell_type": "code",
   "execution_count": 29,
   "metadata": {},
   "outputs": [],
   "source": [
    "Key_Data['default'].iloc[Key_Data[Key_Data['default'].isnull()].index] = nm_clf.predict(m_X)"
   ]
  },
  {
   "cell_type": "markdown",
   "metadata": {},
   "source": [
    "*Now we have filled the missing values of 'default'*"
   ]
  },
  {
   "cell_type": "code",
   "execution_count": 30,
   "metadata": {},
   "outputs": [
    {
     "data": {
      "text/plain": [
       "False"
      ]
     },
     "execution_count": 30,
     "metadata": {},
     "output_type": "execute_result"
    }
   ],
   "source": [
    "Key_Data['default'].isnull().any()"
   ]
  },
  {
   "cell_type": "code",
   "execution_count": 31,
   "metadata": {},
   "outputs": [
    {
     "data": {
      "text/html": [
       "<div>\n",
       "<style scoped>\n",
       "    .dataframe tbody tr th:only-of-type {\n",
       "        vertical-align: middle;\n",
       "    }\n",
       "\n",
       "    .dataframe tbody tr th {\n",
       "        vertical-align: top;\n",
       "    }\n",
       "\n",
       "    .dataframe thead th {\n",
       "        text-align: right;\n",
       "    }\n",
       "</style>\n",
       "<table border=\"1\" class=\"dataframe\">\n",
       "  <thead>\n",
       "    <tr style=\"text-align: right;\">\n",
       "      <th></th>\n",
       "      <th>age</th>\n",
       "      <th>instalments_amount</th>\n",
       "      <th>nominalrates</th>\n",
       "      <th>creditlevelasbuyer</th>\n",
       "      <th>tencentscore</th>\n",
       "      <th>gaodescore</th>\n",
       "      <th>gender</th>\n",
       "      <th>highcontact</th>\n",
       "      <th>deal</th>\n",
       "      <th>default</th>\n",
       "    </tr>\n",
       "  </thead>\n",
       "  <tbody>\n",
       "    <tr>\n",
       "      <th>0</th>\n",
       "      <td>31</td>\n",
       "      <td>270000</td>\n",
       "      <td>0.359378</td>\n",
       "      <td>1.0</td>\n",
       "      <td>48.000000</td>\n",
       "      <td>0.192094</td>\n",
       "      <td>False</td>\n",
       "      <td>True</td>\n",
       "      <td>1</td>\n",
       "      <td>False</td>\n",
       "    </tr>\n",
       "    <tr>\n",
       "      <th>1</th>\n",
       "      <td>23</td>\n",
       "      <td>398000</td>\n",
       "      <td>0.204553</td>\n",
       "      <td>3.0</td>\n",
       "      <td>60.200000</td>\n",
       "      <td>0.156100</td>\n",
       "      <td>False</td>\n",
       "      <td>True</td>\n",
       "      <td>0</td>\n",
       "      <td>False</td>\n",
       "    </tr>\n",
       "    <tr>\n",
       "      <th>2</th>\n",
       "      <td>19</td>\n",
       "      <td>300000</td>\n",
       "      <td>0.204560</td>\n",
       "      <td>161.0</td>\n",
       "      <td>53.875000</td>\n",
       "      <td>0.192094</td>\n",
       "      <td>True</td>\n",
       "      <td>False</td>\n",
       "      <td>1</td>\n",
       "      <td>False</td>\n",
       "    </tr>\n",
       "    <tr>\n",
       "      <th>3</th>\n",
       "      <td>25</td>\n",
       "      <td>378000</td>\n",
       "      <td>0.252571</td>\n",
       "      <td>29.0</td>\n",
       "      <td>35.000000</td>\n",
       "      <td>0.189800</td>\n",
       "      <td>False</td>\n",
       "      <td>True</td>\n",
       "      <td>1</td>\n",
       "      <td>False</td>\n",
       "    </tr>\n",
       "    <tr>\n",
       "      <th>4</th>\n",
       "      <td>21</td>\n",
       "      <td>400000</td>\n",
       "      <td>0.359360</td>\n",
       "      <td>54.0</td>\n",
       "      <td>84.000000</td>\n",
       "      <td>0.187895</td>\n",
       "      <td>False</td>\n",
       "      <td>False</td>\n",
       "      <td>1</td>\n",
       "      <td>False</td>\n",
       "    </tr>\n",
       "    <tr>\n",
       "      <th>...</th>\n",
       "      <td>...</td>\n",
       "      <td>...</td>\n",
       "      <td>...</td>\n",
       "      <td>...</td>\n",
       "      <td>...</td>\n",
       "      <td>...</td>\n",
       "      <td>...</td>\n",
       "      <td>...</td>\n",
       "      <td>...</td>\n",
       "      <td>...</td>\n",
       "    </tr>\n",
       "    <tr>\n",
       "      <th>4024</th>\n",
       "      <td>33</td>\n",
       "      <td>397000</td>\n",
       "      <td>0.204564</td>\n",
       "      <td>0.0</td>\n",
       "      <td>13.000000</td>\n",
       "      <td>0.214644</td>\n",
       "      <td>False</td>\n",
       "      <td>True</td>\n",
       "      <td>1</td>\n",
       "      <td>False</td>\n",
       "    </tr>\n",
       "    <tr>\n",
       "      <th>4025</th>\n",
       "      <td>32</td>\n",
       "      <td>458000</td>\n",
       "      <td>0.204559</td>\n",
       "      <td>146.0</td>\n",
       "      <td>53.000000</td>\n",
       "      <td>0.305604</td>\n",
       "      <td>False</td>\n",
       "      <td>True</td>\n",
       "      <td>0</td>\n",
       "      <td>False</td>\n",
       "    </tr>\n",
       "    <tr>\n",
       "      <th>4026</th>\n",
       "      <td>21</td>\n",
       "      <td>130000</td>\n",
       "      <td>0.358954</td>\n",
       "      <td>17.0</td>\n",
       "      <td>58.111111</td>\n",
       "      <td>0.192094</td>\n",
       "      <td>False</td>\n",
       "      <td>True</td>\n",
       "      <td>1</td>\n",
       "      <td>True</td>\n",
       "    </tr>\n",
       "    <tr>\n",
       "      <th>4027</th>\n",
       "      <td>24</td>\n",
       "      <td>589000</td>\n",
       "      <td>0.213772</td>\n",
       "      <td>11.0</td>\n",
       "      <td>70.571429</td>\n",
       "      <td>0.241720</td>\n",
       "      <td>False</td>\n",
       "      <td>True</td>\n",
       "      <td>0</td>\n",
       "      <td>True</td>\n",
       "    </tr>\n",
       "    <tr>\n",
       "      <th>4028</th>\n",
       "      <td>20</td>\n",
       "      <td>139000</td>\n",
       "      <td>0.359367</td>\n",
       "      <td>9.0</td>\n",
       "      <td>60.200000</td>\n",
       "      <td>0.192094</td>\n",
       "      <td>True</td>\n",
       "      <td>True</td>\n",
       "      <td>0</td>\n",
       "      <td>False</td>\n",
       "    </tr>\n",
       "  </tbody>\n",
       "</table>\n",
       "<p>4029 rows × 10 columns</p>\n",
       "</div>"
      ],
      "text/plain": [
       "      age  instalments_amount  nominalrates  creditlevelasbuyer  tencentscore  \\\n",
       "0      31              270000      0.359378                 1.0     48.000000   \n",
       "1      23              398000      0.204553                 3.0     60.200000   \n",
       "2      19              300000      0.204560               161.0     53.875000   \n",
       "3      25              378000      0.252571                29.0     35.000000   \n",
       "4      21              400000      0.359360                54.0     84.000000   \n",
       "...   ...                 ...           ...                 ...           ...   \n",
       "4024   33              397000      0.204564                 0.0     13.000000   \n",
       "4025   32              458000      0.204559               146.0     53.000000   \n",
       "4026   21              130000      0.358954                17.0     58.111111   \n",
       "4027   24              589000      0.213772                11.0     70.571429   \n",
       "4028   20              139000      0.359367                 9.0     60.200000   \n",
       "\n",
       "      gaodescore  gender  highcontact  deal default  \n",
       "0       0.192094   False         True     1   False  \n",
       "1       0.156100   False         True     0   False  \n",
       "2       0.192094    True        False     1   False  \n",
       "3       0.189800   False         True     1   False  \n",
       "4       0.187895   False        False     1   False  \n",
       "...          ...     ...          ...   ...     ...  \n",
       "4024    0.214644   False         True     1   False  \n",
       "4025    0.305604   False         True     0   False  \n",
       "4026    0.192094   False         True     1    True  \n",
       "4027    0.241720   False         True     0    True  \n",
       "4028    0.192094    True         True     0   False  \n",
       "\n",
       "[4029 rows x 10 columns]"
      ]
     },
     "execution_count": 31,
     "metadata": {},
     "output_type": "execute_result"
    }
   ],
   "source": [
    "Key_Data"
   ]
  },
  {
   "cell_type": "markdown",
   "metadata": {},
   "source": [
    "## Q2"
   ]
  },
  {
   "cell_type": "markdown",
   "metadata": {},
   "source": [
    "*2) Perform a logit regression and examine the relation between the delinquency likelihood and credit scores*"
   ]
  },
  {
   "cell_type": "markdown",
   "metadata": {},
   "source": [
    "### Using LogisticRegression from sklearn"
   ]
  },
  {
   "cell_type": "code",
   "execution_count": 32,
   "metadata": {},
   "outputs": [],
   "source": [
    "q2_X = Key_Data[['creditlevelasbuyer', 'tencentscore', 'gaodescore']]\n",
    "q2_y = Key_Data['default']\n",
    "q2_X = scaler.fit(q2_X).transform(q2_X)"
   ]
  },
  {
   "cell_type": "code",
   "execution_count": 33,
   "metadata": {},
   "outputs": [],
   "source": [
    "q2_logit = LogisticRegression().fit(q2_X, q2_y.astype(bool))"
   ]
  },
  {
   "cell_type": "markdown",
   "metadata": {},
   "source": [
    "score:float\n",
    "* Mean accuracy of self.predict(X) wrt. y."
   ]
  },
  {
   "cell_type": "code",
   "execution_count": 34,
   "metadata": {},
   "outputs": [
    {
     "data": {
      "text/plain": [
       "0.7217671878878134"
      ]
     },
     "execution_count": 34,
     "metadata": {},
     "output_type": "execute_result"
    }
   ],
   "source": [
    "q2_logit.score(q2_X, q2_y.astype(bool))"
   ]
  },
  {
   "cell_type": "code",
   "execution_count": 35,
   "metadata": {},
   "outputs": [
    {
     "data": {
      "text/plain": [
       "array([[0.10413267, 0.31336157, 0.13033775]])"
      ]
     },
     "execution_count": 35,
     "metadata": {},
     "output_type": "execute_result"
    }
   ],
   "source": [
    "q2_logit.coef_"
   ]
  },
  {
   "cell_type": "markdown",
   "metadata": {},
   "source": [
    "### Using Logit from statsmodels"
   ]
  },
  {
   "cell_type": "code",
   "execution_count": 36,
   "metadata": {},
   "outputs": [],
   "source": [
    "import statsmodels.api as sm"
   ]
  },
  {
   "cell_type": "code",
   "execution_count": 37,
   "metadata": {},
   "outputs": [],
   "source": [
    "q2_X = Key_Data[['creditlevelasbuyer', 'tencentscore', 'gaodescore']]\n",
    "q2_y = Key_Data['default'].map({True:1, False:0})\n",
    "q2_X = scaler.fit(q2_X).transform(q2_X)\n",
    "q2_X = sm.add_constant(q2_X)"
   ]
  },
  {
   "cell_type": "code",
   "execution_count": 38,
   "metadata": {},
   "outputs": [
    {
     "name": "stdout",
     "output_type": "stream",
     "text": [
      "Optimization terminated successfully.\n",
      "         Current function value: 0.580266\n",
      "         Iterations 5\n"
     ]
    }
   ],
   "source": [
    "q2_model = sm.Logit(q2_y, q2_X)\n",
    "q2_result = q2_model.fit()"
   ]
  },
  {
   "cell_type": "code",
   "execution_count": 39,
   "metadata": {
    "scrolled": false
   },
   "outputs": [
    {
     "data": {
      "text/html": [
       "<table class=\"simpletable\">\n",
       "<caption>Logit Regression Results</caption>\n",
       "<tr>\n",
       "  <th>Dep. Variable:</th>        <td>default</td>     <th>  No. Observations:  </th>  <td>  4029</td>  \n",
       "</tr>\n",
       "<tr>\n",
       "  <th>Model:</th>                 <td>Logit</td>      <th>  Df Residuals:      </th>  <td>  4025</td>  \n",
       "</tr>\n",
       "<tr>\n",
       "  <th>Method:</th>                 <td>MLE</td>       <th>  Df Model:          </th>  <td>     3</td>  \n",
       "</tr>\n",
       "<tr>\n",
       "  <th>Date:</th>            <td>Tue, 24 Nov 2020</td> <th>  Pseudo R-squ.:     </th>  <td>0.01901</td> \n",
       "</tr>\n",
       "<tr>\n",
       "  <th>Time:</th>                <td>10:25:04</td>     <th>  Log-Likelihood:    </th> <td> -2337.9</td> \n",
       "</tr>\n",
       "<tr>\n",
       "  <th>converged:</th>             <td>True</td>       <th>  LL-Null:           </th> <td> -2383.2</td> \n",
       "</tr>\n",
       "<tr>\n",
       "  <th>Covariance Type:</th>     <td>nonrobust</td>    <th>  LLR p-value:       </th> <td>1.605e-19</td>\n",
       "</tr>\n",
       "</table>\n",
       "<table class=\"simpletable\">\n",
       "<tr>\n",
       "    <td></td>       <th>coef</th>     <th>std err</th>      <th>z</th>      <th>P>|z|</th>  <th>[0.025</th>    <th>0.975]</th>  \n",
       "</tr>\n",
       "<tr>\n",
       "  <th>const</th> <td>   -0.9781</td> <td>    0.036</td> <td>  -27.192</td> <td> 0.000</td> <td>   -1.049</td> <td>   -0.908</td>\n",
       "</tr>\n",
       "<tr>\n",
       "  <th>x1</th>    <td>    0.1044</td> <td>    0.035</td> <td>    2.979</td> <td> 0.003</td> <td>    0.036</td> <td>    0.173</td>\n",
       "</tr>\n",
       "<tr>\n",
       "  <th>x2</th>    <td>    0.3138</td> <td>    0.038</td> <td>    8.161</td> <td> 0.000</td> <td>    0.238</td> <td>    0.389</td>\n",
       "</tr>\n",
       "<tr>\n",
       "  <th>x3</th>    <td>    0.1305</td> <td>    0.035</td> <td>    3.765</td> <td> 0.000</td> <td>    0.063</td> <td>    0.198</td>\n",
       "</tr>\n",
       "</table>"
      ],
      "text/plain": [
       "<class 'statsmodels.iolib.summary.Summary'>\n",
       "\"\"\"\n",
       "                           Logit Regression Results                           \n",
       "==============================================================================\n",
       "Dep. Variable:                default   No. Observations:                 4029\n",
       "Model:                          Logit   Df Residuals:                     4025\n",
       "Method:                           MLE   Df Model:                            3\n",
       "Date:                Tue, 24 Nov 2020   Pseudo R-squ.:                 0.01901\n",
       "Time:                        10:25:04   Log-Likelihood:                -2337.9\n",
       "converged:                       True   LL-Null:                       -2383.2\n",
       "Covariance Type:            nonrobust   LLR p-value:                 1.605e-19\n",
       "==============================================================================\n",
       "                 coef    std err          z      P>|z|      [0.025      0.975]\n",
       "------------------------------------------------------------------------------\n",
       "const         -0.9781      0.036    -27.192      0.000      -1.049      -0.908\n",
       "x1             0.1044      0.035      2.979      0.003       0.036       0.173\n",
       "x2             0.3138      0.038      8.161      0.000       0.238       0.389\n",
       "x3             0.1305      0.035      3.765      0.000       0.063       0.198\n",
       "==============================================================================\n",
       "\"\"\""
      ]
     },
     "execution_count": 39,
     "metadata": {},
     "output_type": "execute_result"
    }
   ],
   "source": [
    "q2_result.summary()"
   ]
  },
  {
   "cell_type": "code",
   "execution_count": 41,
   "metadata": {},
   "outputs": [
    {
     "name": "stdout",
     "output_type": "stream",
     "text": [
      "Optimization terminated successfully.\n",
      "         Current function value: 0.591422\n",
      "         Iterations 5\n"
     ]
    },
    {
     "data": {
      "text/html": [
       "<table class=\"simpletable\">\n",
       "<caption>Logit Regression Results</caption>\n",
       "<tr>\n",
       "  <th>Dep. Variable:</th>        <td>default</td>     <th>  No. Observations:  </th>  <td>  4029</td>  \n",
       "</tr>\n",
       "<tr>\n",
       "  <th>Model:</th>                 <td>Logit</td>      <th>  Df Residuals:      </th>  <td>  4027</td>  \n",
       "</tr>\n",
       "<tr>\n",
       "  <th>Method:</th>                 <td>MLE</td>       <th>  Df Model:          </th>  <td>     1</td>  \n",
       "</tr>\n",
       "<tr>\n",
       "  <th>Date:</th>            <td>Tue, 24 Nov 2020</td> <th>  Pseudo R-squ.:     </th> <td>0.0001534</td>\n",
       "</tr>\n",
       "<tr>\n",
       "  <th>Time:</th>                <td>10:30:18</td>     <th>  Log-Likelihood:    </th> <td> -2382.8</td> \n",
       "</tr>\n",
       "<tr>\n",
       "  <th>converged:</th>             <td>True</td>       <th>  LL-Null:           </th> <td> -2383.2</td> \n",
       "</tr>\n",
       "<tr>\n",
       "  <th>Covariance Type:</th>     <td>nonrobust</td>    <th>  LLR p-value:       </th>  <td>0.3925</td>  \n",
       "</tr>\n",
       "</table>\n",
       "<table class=\"simpletable\">\n",
       "<tr>\n",
       "    <td></td>       <th>coef</th>     <th>std err</th>      <th>z</th>      <th>P>|z|</th>  <th>[0.025</th>    <th>0.975]</th>  \n",
       "</tr>\n",
       "<tr>\n",
       "  <th>const</th> <td>   -0.9522</td> <td>    0.035</td> <td>  -27.088</td> <td> 0.000</td> <td>   -1.021</td> <td>   -0.883</td>\n",
       "</tr>\n",
       "<tr>\n",
       "  <th>x1</th>    <td>    0.0294</td> <td>    0.034</td> <td>    0.863</td> <td> 0.388</td> <td>   -0.037</td> <td>    0.096</td>\n",
       "</tr>\n",
       "</table>"
      ],
      "text/plain": [
       "<class 'statsmodels.iolib.summary.Summary'>\n",
       "\"\"\"\n",
       "                           Logit Regression Results                           \n",
       "==============================================================================\n",
       "Dep. Variable:                default   No. Observations:                 4029\n",
       "Model:                          Logit   Df Residuals:                     4027\n",
       "Method:                           MLE   Df Model:                            1\n",
       "Date:                Tue, 24 Nov 2020   Pseudo R-squ.:               0.0001534\n",
       "Time:                        10:30:18   Log-Likelihood:                -2382.8\n",
       "converged:                       True   LL-Null:                       -2383.2\n",
       "Covariance Type:            nonrobust   LLR p-value:                    0.3925\n",
       "==============================================================================\n",
       "                 coef    std err          z      P>|z|      [0.025      0.975]\n",
       "------------------------------------------------------------------------------\n",
       "const         -0.9522      0.035    -27.088      0.000      -1.021      -0.883\n",
       "x1             0.0294      0.034      0.863      0.388      -0.037       0.096\n",
       "==============================================================================\n",
       "\"\"\""
      ]
     },
     "execution_count": 41,
     "metadata": {},
     "output_type": "execute_result"
    }
   ],
   "source": [
    "#for creditlevelasbuyer\n",
    "q21_X = Key_Data['creditlevelasbuyer']\n",
    "q21_y = Key_Data['default'].map({True:1, False:0})\n",
    "q21_X = scaler.fit(q21_X.values.reshape(-1, 1)).transform(q21_X.values.reshape(-1, 1))\n",
    "q21_X = sm.add_constant(q21_X)\n",
    "q21_model = sm.Logit(q21_y, q21_X)\n",
    "q21_result = q21_model.fit()\n",
    "q21_result.summary()"
   ]
  },
  {
   "cell_type": "code",
   "execution_count": 42,
   "metadata": {},
   "outputs": [
    {
     "name": "stdout",
     "output_type": "stream",
     "text": [
      "Optimization terminated successfully.\n",
      "         Current function value: 0.582737\n",
      "         Iterations 5\n"
     ]
    },
    {
     "data": {
      "text/html": [
       "<table class=\"simpletable\">\n",
       "<caption>Logit Regression Results</caption>\n",
       "<tr>\n",
       "  <th>Dep. Variable:</th>        <td>default</td>     <th>  No. Observations:  </th>  <td>  4029</td>  \n",
       "</tr>\n",
       "<tr>\n",
       "  <th>Model:</th>                 <td>Logit</td>      <th>  Df Residuals:      </th>  <td>  4027</td>  \n",
       "</tr>\n",
       "<tr>\n",
       "  <th>Method:</th>                 <td>MLE</td>       <th>  Df Model:          </th>  <td>     1</td>  \n",
       "</tr>\n",
       "<tr>\n",
       "  <th>Date:</th>            <td>Tue, 24 Nov 2020</td> <th>  Pseudo R-squ.:     </th>  <td>0.01484</td> \n",
       "</tr>\n",
       "<tr>\n",
       "  <th>Time:</th>                <td>10:47:25</td>     <th>  Log-Likelihood:    </th> <td> -2347.8</td> \n",
       "</tr>\n",
       "<tr>\n",
       "  <th>converged:</th>             <td>True</td>       <th>  LL-Null:           </th> <td> -2383.2</td> \n",
       "</tr>\n",
       "<tr>\n",
       "  <th>Covariance Type:</th>     <td>nonrobust</td>    <th>  LLR p-value:       </th> <td>4.125e-17</td>\n",
       "</tr>\n",
       "</table>\n",
       "<table class=\"simpletable\">\n",
       "<tr>\n",
       "    <td></td>       <th>coef</th>     <th>std err</th>      <th>z</th>      <th>P>|z|</th>  <th>[0.025</th>    <th>0.975]</th>  \n",
       "</tr>\n",
       "<tr>\n",
       "  <th>const</th> <td>   -0.9730</td> <td>    0.036</td> <td>  -27.169</td> <td> 0.000</td> <td>   -1.043</td> <td>   -0.903</td>\n",
       "</tr>\n",
       "<tr>\n",
       "  <th>x1</th>    <td>    0.3077</td> <td>    0.038</td> <td>    8.181</td> <td> 0.000</td> <td>    0.234</td> <td>    0.381</td>\n",
       "</tr>\n",
       "</table>"
      ],
      "text/plain": [
       "<class 'statsmodels.iolib.summary.Summary'>\n",
       "\"\"\"\n",
       "                           Logit Regression Results                           \n",
       "==============================================================================\n",
       "Dep. Variable:                default   No. Observations:                 4029\n",
       "Model:                          Logit   Df Residuals:                     4027\n",
       "Method:                           MLE   Df Model:                            1\n",
       "Date:                Tue, 24 Nov 2020   Pseudo R-squ.:                 0.01484\n",
       "Time:                        10:47:25   Log-Likelihood:                -2347.8\n",
       "converged:                       True   LL-Null:                       -2383.2\n",
       "Covariance Type:            nonrobust   LLR p-value:                 4.125e-17\n",
       "==============================================================================\n",
       "                 coef    std err          z      P>|z|      [0.025      0.975]\n",
       "------------------------------------------------------------------------------\n",
       "const         -0.9730      0.036    -27.169      0.000      -1.043      -0.903\n",
       "x1             0.3077      0.038      8.181      0.000       0.234       0.381\n",
       "==============================================================================\n",
       "\"\"\""
      ]
     },
     "execution_count": 42,
     "metadata": {},
     "output_type": "execute_result"
    }
   ],
   "source": [
    "q22_X = Key_Data['tencentscore']\n",
    "q22_y = Key_Data['default'].map({True:1, False:0})\n",
    "q22_X = scaler.fit(q22_X.values.reshape(-1, 1)).transform(q22_X.values.reshape(-1, 1))\n",
    "q22_X = sm.add_constant(q22_X)\n",
    "q22_model = sm.Logit(q22_y, q22_X)\n",
    "q22_result = q22_model.fit()\n",
    "q22_result.summary()"
   ]
  },
  {
   "cell_type": "code",
   "execution_count": 43,
   "metadata": {},
   "outputs": [
    {
     "name": "stdout",
     "output_type": "stream",
     "text": [
      "Optimization terminated successfully.\n",
      "         Current function value: 0.589258\n",
      "         Iterations 5\n"
     ]
    },
    {
     "data": {
      "text/html": [
       "<table class=\"simpletable\">\n",
       "<caption>Logit Regression Results</caption>\n",
       "<tr>\n",
       "  <th>Dep. Variable:</th>        <td>default</td>     <th>  No. Observations:  </th>  <td>  4029</td>  \n",
       "</tr>\n",
       "<tr>\n",
       "  <th>Model:</th>                 <td>Logit</td>      <th>  Df Residuals:      </th>  <td>  4027</td>  \n",
       "</tr>\n",
       "<tr>\n",
       "  <th>Method:</th>                 <td>MLE</td>       <th>  Df Model:          </th>  <td>     1</td>  \n",
       "</tr>\n",
       "<tr>\n",
       "  <th>Date:</th>            <td>Tue, 24 Nov 2020</td> <th>  Pseudo R-squ.:     </th> <td>0.003813</td> \n",
       "</tr>\n",
       "<tr>\n",
       "  <th>Time:</th>                <td>10:50:44</td>     <th>  Log-Likelihood:    </th> <td> -2374.1</td> \n",
       "</tr>\n",
       "<tr>\n",
       "  <th>converged:</th>             <td>True</td>       <th>  LL-Null:           </th> <td> -2383.2</td> \n",
       "</tr>\n",
       "<tr>\n",
       "  <th>Covariance Type:</th>     <td>nonrobust</td>    <th>  LLR p-value:       </th> <td>2.018e-05</td>\n",
       "</tr>\n",
       "</table>\n",
       "<table class=\"simpletable\">\n",
       "<tr>\n",
       "    <td></td>       <th>coef</th>     <th>std err</th>      <th>z</th>      <th>P>|z|</th>  <th>[0.025</th>    <th>0.975]</th>  \n",
       "</tr>\n",
       "<tr>\n",
       "  <th>const</th> <td>   -0.9564</td> <td>    0.035</td> <td>  -27.107</td> <td> 0.000</td> <td>   -1.026</td> <td>   -0.887</td>\n",
       "</tr>\n",
       "<tr>\n",
       "  <th>x1</th>    <td>    0.1454</td> <td>    0.034</td> <td>    4.303</td> <td> 0.000</td> <td>    0.079</td> <td>    0.212</td>\n",
       "</tr>\n",
       "</table>"
      ],
      "text/plain": [
       "<class 'statsmodels.iolib.summary.Summary'>\n",
       "\"\"\"\n",
       "                           Logit Regression Results                           \n",
       "==============================================================================\n",
       "Dep. Variable:                default   No. Observations:                 4029\n",
       "Model:                          Logit   Df Residuals:                     4027\n",
       "Method:                           MLE   Df Model:                            1\n",
       "Date:                Tue, 24 Nov 2020   Pseudo R-squ.:                0.003813\n",
       "Time:                        10:50:44   Log-Likelihood:                -2374.1\n",
       "converged:                       True   LL-Null:                       -2383.2\n",
       "Covariance Type:            nonrobust   LLR p-value:                 2.018e-05\n",
       "==============================================================================\n",
       "                 coef    std err          z      P>|z|      [0.025      0.975]\n",
       "------------------------------------------------------------------------------\n",
       "const         -0.9564      0.035    -27.107      0.000      -1.026      -0.887\n",
       "x1             0.1454      0.034      4.303      0.000       0.079       0.212\n",
       "==============================================================================\n",
       "\"\"\""
      ]
     },
     "execution_count": 43,
     "metadata": {},
     "output_type": "execute_result"
    }
   ],
   "source": [
    "#q2_X = Key_Data[['creditlevelasbuyer', 'tencentscore', 'gaodescore']]\n",
    "q22_X = Key_Data['gaodescore']\n",
    "q22_y = Key_Data['default'].map({True:1, False:0})\n",
    "q22_X = scaler.fit(q22_X.values.reshape(-1, 1)).transform(q22_X.values.reshape(-1, 1))\n",
    "q22_X = sm.add_constant(q22_X)\n",
    "q22_model = sm.Logit(q22_y, q22_X)\n",
    "q22_result = q22_model.fit()\n",
    "q22_result.summary()"
   ]
  },
  {
   "cell_type": "code",
   "execution_count": null,
   "metadata": {},
   "outputs": [],
   "source": []
  },
  {
   "cell_type": "code",
   "execution_count": null,
   "metadata": {},
   "outputs": [],
   "source": []
  },
  {
   "cell_type": "markdown",
   "metadata": {},
   "source": [
    "## Q3"
   ]
  },
  {
   "cell_type": "markdown",
   "metadata": {},
   "source": [
    "*3) Perform a logit regression and examine the relation between the loan approval likelihood and credit scores*"
   ]
  },
  {
   "cell_type": "markdown",
   "metadata": {},
   "source": [
    "### Using LogisticRegression from sklearn"
   ]
  },
  {
   "cell_type": "code",
   "execution_count": 40,
   "metadata": {},
   "outputs": [],
   "source": [
    "q3_X = Key_Data[['creditlevelasbuyer', 'tencentscore', 'gaodescore']]\n",
    "q3_y = Key_Data['deal']\n",
    "q3_X = scaler.fit(q3_X).transform(q3_X)"
   ]
  },
  {
   "cell_type": "code",
   "execution_count": 41,
   "metadata": {},
   "outputs": [],
   "source": [
    "q3_logit = LogisticRegression().fit(q3_X, q3_y.astype(bool))"
   ]
  },
  {
   "cell_type": "code",
   "execution_count": 42,
   "metadata": {},
   "outputs": [
    {
     "data": {
      "text/plain": [
       "0.6443286175229586"
      ]
     },
     "execution_count": 42,
     "metadata": {},
     "output_type": "execute_result"
    }
   ],
   "source": [
    "q3_logit.score(q3_X, q3_y.astype(bool))"
   ]
  },
  {
   "cell_type": "code",
   "execution_count": 43,
   "metadata": {},
   "outputs": [
    {
     "data": {
      "text/plain": [
       "array([[ 0.20166668, -0.39714435, -0.15879942]])"
      ]
     },
     "execution_count": 43,
     "metadata": {},
     "output_type": "execute_result"
    }
   ],
   "source": [
    "q3_logit.coef_"
   ]
  },
  {
   "cell_type": "markdown",
   "metadata": {},
   "source": [
    "### Using Logit from statsmodels"
   ]
  },
  {
   "cell_type": "code",
   "execution_count": 44,
   "metadata": {},
   "outputs": [],
   "source": [
    "q3_X = Key_Data[['creditlevelasbuyer', 'tencentscore', 'gaodescore']]\n",
    "q3_y = Key_Data['deal']\n",
    "q3_X = scaler.fit(q3_X).transform(q3_X)\n",
    "q3_X = sm.add_constant(q3_X)"
   ]
  },
  {
   "cell_type": "code",
   "execution_count": 45,
   "metadata": {},
   "outputs": [
    {
     "name": "stdout",
     "output_type": "stream",
     "text": [
      "Optimization terminated successfully.\n",
      "         Current function value: 0.658019\n",
      "         Iterations 5\n"
     ]
    }
   ],
   "source": [
    "q3_model = sm.Logit(q3_y, q3_X)\n",
    "q3_result = q3_model.fit()"
   ]
  },
  {
   "cell_type": "code",
   "execution_count": 46,
   "metadata": {},
   "outputs": [
    {
     "data": {
      "text/html": [
       "<table class=\"simpletable\">\n",
       "<caption>Logit Regression Results</caption>\n",
       "<tr>\n",
       "  <th>Dep. Variable:</th>         <td>deal</td>       <th>  No. Observations:  </th>  <td>  4029</td>  \n",
       "</tr>\n",
       "<tr>\n",
       "  <th>Model:</th>                 <td>Logit</td>      <th>  Df Residuals:      </th>  <td>  4025</td>  \n",
       "</tr>\n",
       "<tr>\n",
       "  <th>Method:</th>                 <td>MLE</td>       <th>  Df Model:          </th>  <td>     3</td>  \n",
       "</tr>\n",
       "<tr>\n",
       "  <th>Date:</th>            <td>Sat, 26 Sep 2020</td> <th>  Pseudo R-squ.:     </th>  <td>0.04411</td> \n",
       "</tr>\n",
       "<tr>\n",
       "  <th>Time:</th>                <td>20:28:39</td>     <th>  Log-Likelihood:    </th> <td> -2651.2</td> \n",
       "</tr>\n",
       "<tr>\n",
       "  <th>converged:</th>             <td>True</td>       <th>  LL-Null:           </th> <td> -2773.5</td> \n",
       "</tr>\n",
       "<tr>\n",
       "  <th>Covariance Type:</th>     <td>nonrobust</td>    <th>  LLR p-value:       </th> <td>9.324e-53</td>\n",
       "</tr>\n",
       "</table>\n",
       "<table class=\"simpletable\">\n",
       "<tr>\n",
       "    <td></td>       <th>coef</th>     <th>std err</th>      <th>z</th>      <th>P>|z|</th>  <th>[0.025</th>    <th>0.975]</th>  \n",
       "</tr>\n",
       "<tr>\n",
       "  <th>const</th> <td>   -0.1993</td> <td>    0.033</td> <td>   -6.098</td> <td> 0.000</td> <td>   -0.263</td> <td>   -0.135</td>\n",
       "</tr>\n",
       "<tr>\n",
       "  <th>x1</th>    <td>    0.2019</td> <td>    0.039</td> <td>    5.182</td> <td> 0.000</td> <td>    0.126</td> <td>    0.278</td>\n",
       "</tr>\n",
       "<tr>\n",
       "  <th>x2</th>    <td>   -0.3976</td> <td>    0.035</td> <td>  -11.445</td> <td> 0.000</td> <td>   -0.466</td> <td>   -0.329</td>\n",
       "</tr>\n",
       "<tr>\n",
       "  <th>x3</th>    <td>   -0.1589</td> <td>    0.035</td> <td>   -4.580</td> <td> 0.000</td> <td>   -0.227</td> <td>   -0.091</td>\n",
       "</tr>\n",
       "</table>"
      ],
      "text/plain": [
       "<class 'statsmodels.iolib.summary.Summary'>\n",
       "\"\"\"\n",
       "                           Logit Regression Results                           \n",
       "==============================================================================\n",
       "Dep. Variable:                   deal   No. Observations:                 4029\n",
       "Model:                          Logit   Df Residuals:                     4025\n",
       "Method:                           MLE   Df Model:                            3\n",
       "Date:                Sat, 26 Sep 2020   Pseudo R-squ.:                 0.04411\n",
       "Time:                        20:28:39   Log-Likelihood:                -2651.2\n",
       "converged:                       True   LL-Null:                       -2773.5\n",
       "Covariance Type:            nonrobust   LLR p-value:                 9.324e-53\n",
       "==============================================================================\n",
       "                 coef    std err          z      P>|z|      [0.025      0.975]\n",
       "------------------------------------------------------------------------------\n",
       "const         -0.1993      0.033     -6.098      0.000      -0.263      -0.135\n",
       "x1             0.2019      0.039      5.182      0.000       0.126       0.278\n",
       "x2            -0.3976      0.035    -11.445      0.000      -0.466      -0.329\n",
       "x3            -0.1589      0.035     -4.580      0.000      -0.227      -0.091\n",
       "==============================================================================\n",
       "\"\"\""
      ]
     },
     "execution_count": 46,
     "metadata": {},
     "output_type": "execute_result"
    }
   ],
   "source": [
    "q3_result.summary()"
   ]
  },
  {
   "cell_type": "markdown",
   "metadata": {},
   "source": [
    "## Q4"
   ]
  },
  {
   "cell_type": "markdown",
   "metadata": {},
   "source": [
    "*4) Perform a logit regression and examine the relation between the loan approval likelihood and the dummy whether the borrower has a frequent contact*"
   ]
  },
  {
   "cell_type": "markdown",
   "metadata": {},
   "source": [
    "### Using LogisticRegression from sklearn\n"
   ]
  },
  {
   "cell_type": "code",
   "execution_count": 47,
   "metadata": {},
   "outputs": [],
   "source": [
    "q4_X = Key_Data['highcontact']\n",
    "q4_y = Key_Data['deal']\n",
    "q4_X = scaler.fit(q4_X.values.reshape(-1, 1)).transform(q4_X.values.reshape(-1, 1))"
   ]
  },
  {
   "cell_type": "code",
   "execution_count": 48,
   "metadata": {},
   "outputs": [],
   "source": [
    "q4_logit = LogisticRegression().fit(q4_X, q4_y.astype(bool))"
   ]
  },
  {
   "cell_type": "code",
   "execution_count": 49,
   "metadata": {},
   "outputs": [
    {
     "data": {
      "text/plain": [
       "0.5487714072970961"
      ]
     },
     "execution_count": 49,
     "metadata": {},
     "output_type": "execute_result"
    }
   ],
   "source": [
    "q4_logit.score(q4_X, q4_y.astype(bool))"
   ]
  },
  {
   "cell_type": "code",
   "execution_count": 50,
   "metadata": {},
   "outputs": [
    {
     "data": {
      "text/plain": [
       "array([[0.08461788]])"
      ]
     },
     "execution_count": 50,
     "metadata": {},
     "output_type": "execute_result"
    }
   ],
   "source": [
    "q4_logit.coef_"
   ]
  },
  {
   "cell_type": "markdown",
   "metadata": {},
   "source": [
    "### Using Logit from statsmodels"
   ]
  },
  {
   "cell_type": "code",
   "execution_count": 51,
   "metadata": {},
   "outputs": [],
   "source": [
    "q4_X = Key_Data['highcontact']\n",
    "q4_y = Key_Data['deal']\n",
    "q4_X = scaler.fit(q4_X.values.reshape(-1, 1)).transform(q4_X.values.reshape(-1, 1))\n",
    "q4_X = sm.add_constant(q4_X)"
   ]
  },
  {
   "cell_type": "code",
   "execution_count": 52,
   "metadata": {},
   "outputs": [
    {
     "name": "stdout",
     "output_type": "stream",
     "text": [
      "Optimization terminated successfully.\n",
      "         Current function value: 0.687495\n",
      "         Iterations 4\n"
     ]
    }
   ],
   "source": [
    "q4_model = sm.Logit(q4_y, q4_X)\n",
    "q4_result = q4_model.fit()"
   ]
  },
  {
   "cell_type": "code",
   "execution_count": 53,
   "metadata": {},
   "outputs": [
    {
     "data": {
      "text/html": [
       "<table class=\"simpletable\">\n",
       "<caption>Logit Regression Results</caption>\n",
       "<tr>\n",
       "  <th>Dep. Variable:</th>         <td>deal</td>       <th>  No. Observations:  </th>  <td>  4029</td> \n",
       "</tr>\n",
       "<tr>\n",
       "  <th>Model:</th>                 <td>Logit</td>      <th>  Df Residuals:      </th>  <td>  4027</td> \n",
       "</tr>\n",
       "<tr>\n",
       "  <th>Method:</th>                 <td>MLE</td>       <th>  Df Model:          </th>  <td>     1</td> \n",
       "</tr>\n",
       "<tr>\n",
       "  <th>Date:</th>            <td>Sat, 26 Sep 2020</td> <th>  Pseudo R-squ.:     </th> <td>0.001289</td>\n",
       "</tr>\n",
       "<tr>\n",
       "  <th>Time:</th>                <td>20:28:39</td>     <th>  Log-Likelihood:    </th> <td> -2769.9</td>\n",
       "</tr>\n",
       "<tr>\n",
       "  <th>converged:</th>             <td>True</td>       <th>  LL-Null:           </th> <td> -2773.5</td>\n",
       "</tr>\n",
       "<tr>\n",
       "  <th>Covariance Type:</th>     <td>nonrobust</td>    <th>  LLR p-value:       </th> <td>0.007503</td>\n",
       "</tr>\n",
       "</table>\n",
       "<table class=\"simpletable\">\n",
       "<tr>\n",
       "    <td></td>       <th>coef</th>     <th>std err</th>      <th>z</th>      <th>P>|z|</th>  <th>[0.025</th>    <th>0.975]</th>  \n",
       "</tr>\n",
       "<tr>\n",
       "  <th>const</th> <td>   -0.1961</td> <td>    0.032</td> <td>   -6.187</td> <td> 0.000</td> <td>   -0.258</td> <td>   -0.134</td>\n",
       "</tr>\n",
       "<tr>\n",
       "  <th>x1</th>    <td>    0.0847</td> <td>    0.032</td> <td>    2.672</td> <td> 0.008</td> <td>    0.023</td> <td>    0.147</td>\n",
       "</tr>\n",
       "</table>"
      ],
      "text/plain": [
       "<class 'statsmodels.iolib.summary.Summary'>\n",
       "\"\"\"\n",
       "                           Logit Regression Results                           \n",
       "==============================================================================\n",
       "Dep. Variable:                   deal   No. Observations:                 4029\n",
       "Model:                          Logit   Df Residuals:                     4027\n",
       "Method:                           MLE   Df Model:                            1\n",
       "Date:                Sat, 26 Sep 2020   Pseudo R-squ.:                0.001289\n",
       "Time:                        20:28:39   Log-Likelihood:                -2769.9\n",
       "converged:                       True   LL-Null:                       -2773.5\n",
       "Covariance Type:            nonrobust   LLR p-value:                  0.007503\n",
       "==============================================================================\n",
       "                 coef    std err          z      P>|z|      [0.025      0.975]\n",
       "------------------------------------------------------------------------------\n",
       "const         -0.1961      0.032     -6.187      0.000      -0.258      -0.134\n",
       "x1             0.0847      0.032      2.672      0.008       0.023       0.147\n",
       "==============================================================================\n",
       "\"\"\""
      ]
     },
     "execution_count": 53,
     "metadata": {},
     "output_type": "execute_result"
    }
   ],
   "source": [
    "q4_result.summary()"
   ]
  }
 ],
 "metadata": {
  "kernelspec": {
   "display_name": "Python 3",
   "language": "python",
   "name": "python3"
  },
  "language_info": {
   "codemirror_mode": {
    "name": "ipython",
    "version": 3
   },
   "file_extension": ".py",
   "mimetype": "text/x-python",
   "name": "python",
   "nbconvert_exporter": "python",
   "pygments_lexer": "ipython3",
   "version": "3.8.3"
  },
  "toc": {
   "base_numbering": 1,
   "nav_menu": {},
   "number_sections": true,
   "sideBar": true,
   "skip_h1_title": true,
   "title_cell": "Table of Contents",
   "title_sidebar": "Contents",
   "toc_cell": true,
   "toc_position": {},
   "toc_section_display": true,
   "toc_window_display": false
  },
  "varInspector": {
   "cols": {
    "lenName": 16,
    "lenType": 16,
    "lenVar": 40
   },
   "kernels_config": {
    "python": {
     "delete_cmd_postfix": "",
     "delete_cmd_prefix": "del ",
     "library": "var_list.py",
     "varRefreshCmd": "print(var_dic_list())"
    },
    "r": {
     "delete_cmd_postfix": ") ",
     "delete_cmd_prefix": "rm(",
     "library": "var_list.r",
     "varRefreshCmd": "cat(var_dic_list()) "
    }
   },
   "types_to_exclude": [
    "module",
    "function",
    "builtin_function_or_method",
    "instance",
    "_Feature"
   ],
   "window_display": false
  }
 },
 "nbformat": 4,
 "nbformat_minor": 4
}
